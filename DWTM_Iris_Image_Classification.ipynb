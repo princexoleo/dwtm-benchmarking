{
  "nbformat": 4,
  "nbformat_minor": 0,
  "metadata": {
    "accelerator": "GPU",
    "colab": {
      "name": "DWTM_Iris_Image_Classification.ipynb",
      "provenance": [],
      "collapsed_sections": [
        "DVHMjgu4wqgu"
      ],
      "toc_visible": true,
      "machine_shape": "hm"
    },
    "kernelspec": {
      "display_name": "Python 3",
      "name": "python3"
    },
    "widgets": {
      "application/vnd.jupyter.widget-state+json": {
        "3ba19e932f6241699f1cd87bb1e32718": {
          "model_module": "@jupyter-widgets/controls",
          "model_name": "HBoxModel",
          "model_module_version": "1.5.0",
          "state": {
            "_view_name": "HBoxView",
            "_dom_classes": [],
            "_model_name": "HBoxModel",
            "_view_module": "@jupyter-widgets/controls",
            "_model_module_version": "1.5.0",
            "_view_count": null,
            "_view_module_version": "1.5.0",
            "box_style": "",
            "layout": "IPY_MODEL_c8c8758518784715a7086589d3ba114f",
            "_model_module": "@jupyter-widgets/controls",
            "children": [
              "IPY_MODEL_d0c5b411ee414d7e926cb44b7bf7e8c3",
              "IPY_MODEL_c0b0614473c84376949b1b297a919d30"
            ]
          }
        },
        "c8c8758518784715a7086589d3ba114f": {
          "model_module": "@jupyter-widgets/base",
          "model_name": "LayoutModel",
          "model_module_version": "1.2.0",
          "state": {
            "_view_name": "LayoutView",
            "grid_template_rows": null,
            "right": null,
            "justify_content": null,
            "_view_module": "@jupyter-widgets/base",
            "overflow": null,
            "_model_module_version": "1.2.0",
            "_view_count": null,
            "flex_flow": null,
            "width": null,
            "min_width": null,
            "border": null,
            "align_items": null,
            "bottom": null,
            "_model_module": "@jupyter-widgets/base",
            "top": null,
            "grid_column": null,
            "overflow_y": null,
            "overflow_x": null,
            "grid_auto_flow": null,
            "grid_area": null,
            "grid_template_columns": null,
            "flex": null,
            "_model_name": "LayoutModel",
            "justify_items": null,
            "grid_row": null,
            "max_height": null,
            "align_content": null,
            "visibility": null,
            "align_self": null,
            "height": null,
            "min_height": null,
            "padding": null,
            "grid_auto_rows": null,
            "grid_gap": null,
            "max_width": null,
            "order": null,
            "_view_module_version": "1.2.0",
            "grid_template_areas": null,
            "object_position": null,
            "object_fit": null,
            "grid_auto_columns": null,
            "margin": null,
            "display": null,
            "left": null
          }
        },
        "d0c5b411ee414d7e926cb44b7bf7e8c3": {
          "model_module": "@jupyter-widgets/controls",
          "model_name": "FloatProgressModel",
          "model_module_version": "1.5.0",
          "state": {
            "_view_name": "ProgressView",
            "style": "IPY_MODEL_11e47c39da414f2380b7a1abda07abdf",
            "_dom_classes": [],
            "description": "100%",
            "_model_name": "FloatProgressModel",
            "bar_style": "success",
            "max": 46830571,
            "_view_module": "@jupyter-widgets/controls",
            "_model_module_version": "1.5.0",
            "value": 46830571,
            "_view_count": null,
            "_view_module_version": "1.5.0",
            "orientation": "horizontal",
            "min": 0,
            "description_tooltip": null,
            "_model_module": "@jupyter-widgets/controls",
            "layout": "IPY_MODEL_839c6185d5f14b348006718ea27f9fee"
          }
        },
        "c0b0614473c84376949b1b297a919d30": {
          "model_module": "@jupyter-widgets/controls",
          "model_name": "HTMLModel",
          "model_module_version": "1.5.0",
          "state": {
            "_view_name": "HTMLView",
            "style": "IPY_MODEL_53253c6cfcb041a695f8ab438d572aaf",
            "_dom_classes": [],
            "description": "",
            "_model_name": "HTMLModel",
            "placeholder": "​",
            "_view_module": "@jupyter-widgets/controls",
            "_model_module_version": "1.5.0",
            "value": " 44.7M/44.7M [00:00&lt;00:00, 79.4MB/s]",
            "_view_count": null,
            "_view_module_version": "1.5.0",
            "description_tooltip": null,
            "_model_module": "@jupyter-widgets/controls",
            "layout": "IPY_MODEL_1826e7c7cdab47c5ae494d2f4e96594c"
          }
        },
        "11e47c39da414f2380b7a1abda07abdf": {
          "model_module": "@jupyter-widgets/controls",
          "model_name": "ProgressStyleModel",
          "model_module_version": "1.5.0",
          "state": {
            "_view_name": "StyleView",
            "_model_name": "ProgressStyleModel",
            "description_width": "initial",
            "_view_module": "@jupyter-widgets/base",
            "_model_module_version": "1.5.0",
            "_view_count": null,
            "_view_module_version": "1.2.0",
            "bar_color": null,
            "_model_module": "@jupyter-widgets/controls"
          }
        },
        "839c6185d5f14b348006718ea27f9fee": {
          "model_module": "@jupyter-widgets/base",
          "model_name": "LayoutModel",
          "model_module_version": "1.2.0",
          "state": {
            "_view_name": "LayoutView",
            "grid_template_rows": null,
            "right": null,
            "justify_content": null,
            "_view_module": "@jupyter-widgets/base",
            "overflow": null,
            "_model_module_version": "1.2.0",
            "_view_count": null,
            "flex_flow": null,
            "width": null,
            "min_width": null,
            "border": null,
            "align_items": null,
            "bottom": null,
            "_model_module": "@jupyter-widgets/base",
            "top": null,
            "grid_column": null,
            "overflow_y": null,
            "overflow_x": null,
            "grid_auto_flow": null,
            "grid_area": null,
            "grid_template_columns": null,
            "flex": null,
            "_model_name": "LayoutModel",
            "justify_items": null,
            "grid_row": null,
            "max_height": null,
            "align_content": null,
            "visibility": null,
            "align_self": null,
            "height": null,
            "min_height": null,
            "padding": null,
            "grid_auto_rows": null,
            "grid_gap": null,
            "max_width": null,
            "order": null,
            "_view_module_version": "1.2.0",
            "grid_template_areas": null,
            "object_position": null,
            "object_fit": null,
            "grid_auto_columns": null,
            "margin": null,
            "display": null,
            "left": null
          }
        },
        "53253c6cfcb041a695f8ab438d572aaf": {
          "model_module": "@jupyter-widgets/controls",
          "model_name": "DescriptionStyleModel",
          "model_module_version": "1.5.0",
          "state": {
            "_view_name": "StyleView",
            "_model_name": "DescriptionStyleModel",
            "description_width": "",
            "_view_module": "@jupyter-widgets/base",
            "_model_module_version": "1.5.0",
            "_view_count": null,
            "_view_module_version": "1.2.0",
            "_model_module": "@jupyter-widgets/controls"
          }
        },
        "1826e7c7cdab47c5ae494d2f4e96594c": {
          "model_module": "@jupyter-widgets/base",
          "model_name": "LayoutModel",
          "model_module_version": "1.2.0",
          "state": {
            "_view_name": "LayoutView",
            "grid_template_rows": null,
            "right": null,
            "justify_content": null,
            "_view_module": "@jupyter-widgets/base",
            "overflow": null,
            "_model_module_version": "1.2.0",
            "_view_count": null,
            "flex_flow": null,
            "width": null,
            "min_width": null,
            "border": null,
            "align_items": null,
            "bottom": null,
            "_model_module": "@jupyter-widgets/base",
            "top": null,
            "grid_column": null,
            "overflow_y": null,
            "overflow_x": null,
            "grid_auto_flow": null,
            "grid_area": null,
            "grid_template_columns": null,
            "flex": null,
            "_model_name": "LayoutModel",
            "justify_items": null,
            "grid_row": null,
            "max_height": null,
            "align_content": null,
            "visibility": null,
            "align_self": null,
            "height": null,
            "min_height": null,
            "padding": null,
            "grid_auto_rows": null,
            "grid_gap": null,
            "max_width": null,
            "order": null,
            "_view_module_version": "1.2.0",
            "grid_template_areas": null,
            "object_position": null,
            "object_fit": null,
            "grid_auto_columns": null,
            "margin": null,
            "display": null,
            "left": null
          }
        },
        "dda6cd77f47642b9b326f0c31b8f9f94": {
          "model_module": "@jupyter-widgets/controls",
          "model_name": "HBoxModel",
          "model_module_version": "1.5.0",
          "state": {
            "_view_name": "HBoxView",
            "_dom_classes": [],
            "_model_name": "HBoxModel",
            "_view_module": "@jupyter-widgets/controls",
            "_model_module_version": "1.5.0",
            "_view_count": null,
            "_view_module_version": "1.5.0",
            "box_style": "",
            "layout": "IPY_MODEL_623bc3eceedf456c85274ab2066ac06f",
            "_model_module": "@jupyter-widgets/controls",
            "children": [
              "IPY_MODEL_9be03522e0b44c5690bd1124b3375ca0",
              "IPY_MODEL_8f3d8be4458946cbb8bca3347373c808"
            ]
          }
        },
        "623bc3eceedf456c85274ab2066ac06f": {
          "model_module": "@jupyter-widgets/base",
          "model_name": "LayoutModel",
          "model_module_version": "1.2.0",
          "state": {
            "_view_name": "LayoutView",
            "grid_template_rows": null,
            "right": null,
            "justify_content": null,
            "_view_module": "@jupyter-widgets/base",
            "overflow": null,
            "_model_module_version": "1.2.0",
            "_view_count": null,
            "flex_flow": null,
            "width": null,
            "min_width": null,
            "border": null,
            "align_items": null,
            "bottom": null,
            "_model_module": "@jupyter-widgets/base",
            "top": null,
            "grid_column": null,
            "overflow_y": null,
            "overflow_x": null,
            "grid_auto_flow": null,
            "grid_area": null,
            "grid_template_columns": null,
            "flex": null,
            "_model_name": "LayoutModel",
            "justify_items": null,
            "grid_row": null,
            "max_height": null,
            "align_content": null,
            "visibility": null,
            "align_self": null,
            "height": null,
            "min_height": null,
            "padding": null,
            "grid_auto_rows": null,
            "grid_gap": null,
            "max_width": null,
            "order": null,
            "_view_module_version": "1.2.0",
            "grid_template_areas": null,
            "object_position": null,
            "object_fit": null,
            "grid_auto_columns": null,
            "margin": null,
            "display": null,
            "left": null
          }
        },
        "9be03522e0b44c5690bd1124b3375ca0": {
          "model_module": "@jupyter-widgets/controls",
          "model_name": "FloatProgressModel",
          "model_module_version": "1.5.0",
          "state": {
            "_view_name": "ProgressView",
            "style": "IPY_MODEL_081a1cfdac6e45fa82cdc7b96ead9950",
            "_dom_classes": [],
            "description": "100%",
            "_model_name": "FloatProgressModel",
            "bar_style": "success",
            "max": 52147035,
            "_view_module": "@jupyter-widgets/controls",
            "_model_module_version": "1.5.0",
            "value": 52147035,
            "_view_count": null,
            "_view_module_version": "1.5.0",
            "orientation": "horizontal",
            "min": 0,
            "description_tooltip": null,
            "_model_module": "@jupyter-widgets/controls",
            "layout": "IPY_MODEL_8b4d046561db4182a61d4782795bd69e"
          }
        },
        "8f3d8be4458946cbb8bca3347373c808": {
          "model_module": "@jupyter-widgets/controls",
          "model_name": "HTMLModel",
          "model_module_version": "1.5.0",
          "state": {
            "_view_name": "HTMLView",
            "style": "IPY_MODEL_421418f664f545d5abc9fed461f20421",
            "_dom_classes": [],
            "description": "",
            "_model_name": "HTMLModel",
            "placeholder": "​",
            "_view_module": "@jupyter-widgets/controls",
            "_model_module_version": "1.5.0",
            "value": " 49.7M/49.7M [00:00&lt;00:00, 81.1MB/s]",
            "_view_count": null,
            "_view_module_version": "1.5.0",
            "description_tooltip": null,
            "_model_module": "@jupyter-widgets/controls",
            "layout": "IPY_MODEL_3eda745caa074d6794770323ce75efca"
          }
        },
        "081a1cfdac6e45fa82cdc7b96ead9950": {
          "model_module": "@jupyter-widgets/controls",
          "model_name": "ProgressStyleModel",
          "model_module_version": "1.5.0",
          "state": {
            "_view_name": "StyleView",
            "_model_name": "ProgressStyleModel",
            "description_width": "initial",
            "_view_module": "@jupyter-widgets/base",
            "_model_module_version": "1.5.0",
            "_view_count": null,
            "_view_module_version": "1.2.0",
            "bar_color": null,
            "_model_module": "@jupyter-widgets/controls"
          }
        },
        "8b4d046561db4182a61d4782795bd69e": {
          "model_module": "@jupyter-widgets/base",
          "model_name": "LayoutModel",
          "model_module_version": "1.2.0",
          "state": {
            "_view_name": "LayoutView",
            "grid_template_rows": null,
            "right": null,
            "justify_content": null,
            "_view_module": "@jupyter-widgets/base",
            "overflow": null,
            "_model_module_version": "1.2.0",
            "_view_count": null,
            "flex_flow": null,
            "width": null,
            "min_width": null,
            "border": null,
            "align_items": null,
            "bottom": null,
            "_model_module": "@jupyter-widgets/base",
            "top": null,
            "grid_column": null,
            "overflow_y": null,
            "overflow_x": null,
            "grid_auto_flow": null,
            "grid_area": null,
            "grid_template_columns": null,
            "flex": null,
            "_model_name": "LayoutModel",
            "justify_items": null,
            "grid_row": null,
            "max_height": null,
            "align_content": null,
            "visibility": null,
            "align_self": null,
            "height": null,
            "min_height": null,
            "padding": null,
            "grid_auto_rows": null,
            "grid_gap": null,
            "max_width": null,
            "order": null,
            "_view_module_version": "1.2.0",
            "grid_template_areas": null,
            "object_position": null,
            "object_fit": null,
            "grid_auto_columns": null,
            "margin": null,
            "display": null,
            "left": null
          }
        },
        "421418f664f545d5abc9fed461f20421": {
          "model_module": "@jupyter-widgets/controls",
          "model_name": "DescriptionStyleModel",
          "model_module_version": "1.5.0",
          "state": {
            "_view_name": "StyleView",
            "_model_name": "DescriptionStyleModel",
            "description_width": "",
            "_view_module": "@jupyter-widgets/base",
            "_model_module_version": "1.5.0",
            "_view_count": null,
            "_view_module_version": "1.2.0",
            "_model_module": "@jupyter-widgets/controls"
          }
        },
        "3eda745caa074d6794770323ce75efca": {
          "model_module": "@jupyter-widgets/base",
          "model_name": "LayoutModel",
          "model_module_version": "1.2.0",
          "state": {
            "_view_name": "LayoutView",
            "grid_template_rows": null,
            "right": null,
            "justify_content": null,
            "_view_module": "@jupyter-widgets/base",
            "overflow": null,
            "_model_module_version": "1.2.0",
            "_view_count": null,
            "flex_flow": null,
            "width": null,
            "min_width": null,
            "border": null,
            "align_items": null,
            "bottom": null,
            "_model_module": "@jupyter-widgets/base",
            "top": null,
            "grid_column": null,
            "overflow_y": null,
            "overflow_x": null,
            "grid_auto_flow": null,
            "grid_area": null,
            "grid_template_columns": null,
            "flex": null,
            "_model_name": "LayoutModel",
            "justify_items": null,
            "grid_row": null,
            "max_height": null,
            "align_content": null,
            "visibility": null,
            "align_self": null,
            "height": null,
            "min_height": null,
            "padding": null,
            "grid_auto_rows": null,
            "grid_gap": null,
            "max_width": null,
            "order": null,
            "_view_module_version": "1.2.0",
            "grid_template_areas": null,
            "object_position": null,
            "object_fit": null,
            "grid_auto_columns": null,
            "margin": null,
            "display": null,
            "left": null
          }
        }
      }
    }
  },
  "cells": [
    {
      "cell_type": "code",
      "metadata": {
        "colab": {
          "base_uri": "https://localhost:8080/"
        },
        "id": "pJbYXou6chZf",
        "outputId": "fba96a70-a63a-4afa-dfda-e80143e081cb"
      },
      "source": [
        "!nvidia-smi"
      ],
      "execution_count": null,
      "outputs": [
        {
          "output_type": "stream",
          "text": [
            "Mon Jul 19 11:47:02 2021       \n",
            "+-----------------------------------------------------------------------------+\n",
            "| NVIDIA-SMI 470.42.01    Driver Version: 460.32.03    CUDA Version: 11.2     |\n",
            "|-------------------------------+----------------------+----------------------+\n",
            "| GPU  Name        Persistence-M| Bus-Id        Disp.A | Volatile Uncorr. ECC |\n",
            "| Fan  Temp  Perf  Pwr:Usage/Cap|         Memory-Usage | GPU-Util  Compute M. |\n",
            "|                               |                      |               MIG M. |\n",
            "|===============================+======================+======================|\n",
            "|   0  Tesla T4            Off  | 00000000:00:04.0 Off |                    0 |\n",
            "| N/A   67C    P0    29W /  70W |   2112MiB / 15109MiB |      0%      Default |\n",
            "|                               |                      |                  N/A |\n",
            "+-------------------------------+----------------------+----------------------+\n",
            "                                                                               \n",
            "+-----------------------------------------------------------------------------+\n",
            "| Processes:                                                                  |\n",
            "|  GPU   GI   CI        PID   Type   Process name                  GPU Memory |\n",
            "|        ID   ID                                                   Usage      |\n",
            "|=============================================================================|\n",
            "|  No running processes found                                                 |\n",
            "+-----------------------------------------------------------------------------+\n"
          ],
          "name": "stdout"
        }
      ]
    },
    {
      "cell_type": "markdown",
      "metadata": {
        "id": "lmKIFQxcvdw2"
      },
      "source": [
        "## Download ID:\n",
        "* Diabetics dataset : 1l71UNNM-KSpPfyWOC9meK0G1ZhRJ6M9K\n",
        "    command line `!gdown --id 1l71UNNM-KSpPfyWOC9meK0G1ZhRJ6M9K`"
      ]
    },
    {
      "cell_type": "code",
      "metadata": {
        "id": "jaG_V9027o0n",
        "colab": {
          "base_uri": "https://localhost:8080/"
        },
        "outputId": "a479dfe9-d060-4606-9d86-4fdf5a9072e2"
      },
      "source": [
        "!gdown --id 1EcmpoDTf42On-Y7EOY1nBxs4QqLTSmAt"
      ],
      "execution_count": null,
      "outputs": [
        {
          "output_type": "stream",
          "text": [
            "Downloading...\n",
            "From: https://drive.google.com/uc?id=1EcmpoDTf42On-Y7EOY1nBxs4QqLTSmAt\n",
            "To: /content/iris.zip\n",
            "\r  0% 0.00/411k [00:00<?, ?B/s]\r100% 411k/411k [00:00<00:00, 2.77MB/s]\n"
          ],
          "name": "stdout"
        }
      ]
    },
    {
      "cell_type": "code",
      "metadata": {
        "id": "0X63BxUNg53k",
        "colab": {
          "base_uri": "https://localhost:8080/"
        },
        "outputId": "0ac1a691-5ca8-4c82-a1d8-c1494548397a"
      },
      "source": [
        "!gdown --id 1iwYF9yPht_y_cJ_Y6sQ0jf4omEi_8rl5"
      ],
      "execution_count": null,
      "outputs": [
        {
          "output_type": "stream",
          "text": [
            "Downloading...\n",
            "From: https://drive.google.com/uc?id=1iwYF9yPht_y_cJ_Y6sQ0jf4omEi_8rl5\n",
            "To: /content/iris.zip\n",
            "\r  0% 0.00/573k [00:00<?, ?B/s]\r 91% 524k/573k [00:00<00:00, 4.32MB/s]\r100% 573k/573k [00:00<00:00, 3.50MB/s]\n"
          ],
          "name": "stdout"
        }
      ]
    },
    {
      "cell_type": "code",
      "metadata": {
        "id": "9LKPLxbu2E-l",
        "colab": {
          "base_uri": "https://localhost:8080/"
        },
        "outputId": "5a66d9b5-bf79-465a-8906-768e0a551c24"
      },
      "source": [
        "!unzip /content/iris.zip"
      ],
      "execution_count": null,
      "outputs": [
        {
          "output_type": "stream",
          "text": [
            "Archive:  /content/iris.zip\n",
            "   creating: content/iris/\n",
            "   creating: content/iris/3/\n",
            "  inflating: content/iris/3/149.png  \n",
            "  inflating: content/iris/3/124.png  \n",
            "  inflating: content/iris/3/123.png  \n",
            "  inflating: content/iris/3/137.png  \n",
            "  inflating: content/iris/3/107.png  \n",
            "  inflating: content/iris/3/109.png  \n",
            "  inflating: content/iris/3/148.png  \n",
            "  inflating: content/iris/3/106.png  \n",
            "  inflating: content/iris/3/103.png  \n",
            "  inflating: content/iris/3/131.png  \n",
            "  inflating: content/iris/3/113.png  \n",
            "  inflating: content/iris/3/126.png  \n",
            "  inflating: content/iris/3/121.png  \n",
            "  inflating: content/iris/3/102.png  \n",
            "  inflating: content/iris/3/119.png  \n",
            "  inflating: content/iris/3/116.png  \n",
            "  inflating: content/iris/3/138.png  \n",
            "  inflating: content/iris/3/133.png  \n",
            "  inflating: content/iris/3/122.png  \n",
            "  inflating: content/iris/3/110.png  \n",
            "  inflating: content/iris/3/130.png  \n",
            "  inflating: content/iris/3/127.png  \n",
            "  inflating: content/iris/3/134.png  \n",
            "  inflating: content/iris/3/101.png  \n",
            "  inflating: content/iris/3/104.png  \n",
            "  inflating: content/iris/3/144.png  \n",
            "  inflating: content/iris/3/112.png  \n",
            "  inflating: content/iris/3/132.png  \n",
            "  inflating: content/iris/3/143.png  \n",
            "  inflating: content/iris/3/129.png  \n",
            "  inflating: content/iris/3/111.png  \n",
            "  inflating: content/iris/3/147.png  \n",
            "  inflating: content/iris/3/139.png  \n",
            "  inflating: content/iris/3/115.png  \n",
            "  inflating: content/iris/3/117.png  \n",
            "  inflating: content/iris/3/108.png  \n",
            "  inflating: content/iris/3/120.png  \n",
            "  inflating: content/iris/3/100.png  \n",
            "  inflating: content/iris/3/118.png  \n",
            "  inflating: content/iris/3/140.png  \n",
            "  inflating: content/iris/3/135.png  \n",
            "  inflating: content/iris/3/114.png  \n",
            "  inflating: content/iris/3/125.png  \n",
            "  inflating: content/iris/3/141.png  \n",
            "  inflating: content/iris/3/146.png  \n",
            "  inflating: content/iris/3/142.png  \n",
            "  inflating: content/iris/3/136.png  \n",
            "  inflating: content/iris/3/105.png  \n",
            "  inflating: content/iris/3/128.png  \n",
            "  inflating: content/iris/3/145.png  \n",
            "   creating: content/iris/1/\n",
            "  inflating: content/iris/1/6.png    \n",
            "  inflating: content/iris/1/38.png   \n",
            "  inflating: content/iris/1/31.png   \n",
            "  inflating: content/iris/1/43.png   \n",
            "  inflating: content/iris/1/27.png   \n",
            "  inflating: content/iris/1/26.png   \n",
            "  inflating: content/iris/1/15.png   \n",
            "  inflating: content/iris/1/16.png   \n",
            "  inflating: content/iris/1/35.png   \n",
            "  inflating: content/iris/1/14.png   \n",
            "  inflating: content/iris/1/24.png   \n",
            "  inflating: content/iris/1/49.png   \n",
            "  inflating: content/iris/1/7.png    \n",
            "  inflating: content/iris/1/45.png   \n",
            "  inflating: content/iris/1/21.png   \n",
            "  inflating: content/iris/1/25.png   \n",
            "  inflating: content/iris/1/44.png   \n",
            "  inflating: content/iris/1/8.png    \n",
            "  inflating: content/iris/1/37.png   \n",
            "  inflating: content/iris/1/19.png   \n",
            "  inflating: content/iris/1/1.png    \n",
            "  inflating: content/iris/1/17.png   \n",
            "  inflating: content/iris/1/10.png   \n",
            "  inflating: content/iris/1/11.png   \n",
            "  inflating: content/iris/1/36.png   \n",
            "  inflating: content/iris/1/47.png   \n",
            "  inflating: content/iris/1/33.png   \n",
            "  inflating: content/iris/1/39.png   \n",
            "  inflating: content/iris/1/32.png   \n",
            "  inflating: content/iris/1/42.png   \n",
            "  inflating: content/iris/1/20.png   \n",
            "  inflating: content/iris/1/30.png   \n",
            "  inflating: content/iris/1/3.png    \n",
            "  inflating: content/iris/1/28.png   \n",
            "  inflating: content/iris/1/40.png   \n",
            "  inflating: content/iris/1/18.png   \n",
            "  inflating: content/iris/1/2.png    \n",
            "  inflating: content/iris/1/29.png   \n",
            "  inflating: content/iris/1/12.png   \n",
            "  inflating: content/iris/1/46.png   \n",
            "  inflating: content/iris/1/13.png   \n",
            "  inflating: content/iris/1/48.png   \n",
            "  inflating: content/iris/1/0.png    \n",
            "  inflating: content/iris/1/34.png   \n",
            "  inflating: content/iris/1/4.png    \n",
            "  inflating: content/iris/1/23.png   \n",
            "  inflating: content/iris/1/5.png    \n",
            "  inflating: content/iris/1/9.png    \n",
            "  inflating: content/iris/1/41.png   \n",
            "  inflating: content/iris/1/22.png   \n",
            "   creating: content/iris/2/\n",
            "  inflating: content/iris/2/63.png   \n",
            "  inflating: content/iris/2/69.png   \n",
            "  inflating: content/iris/2/51.png   \n",
            "  inflating: content/iris/2/70.png   \n",
            "  inflating: content/iris/2/59.png   \n",
            "  inflating: content/iris/2/68.png   \n",
            "  inflating: content/iris/2/80.png   \n",
            "  inflating: content/iris/2/73.png   \n",
            "  inflating: content/iris/2/74.png   \n",
            "  inflating: content/iris/2/62.png   \n",
            "  inflating: content/iris/2/86.png   \n",
            "  inflating: content/iris/2/75.png   \n",
            "  inflating: content/iris/2/95.png   \n",
            "  inflating: content/iris/2/98.png   \n",
            "  inflating: content/iris/2/57.png   \n",
            "  inflating: content/iris/2/97.png   \n",
            "  inflating: content/iris/2/89.png   \n",
            "  inflating: content/iris/2/99.png   \n",
            "  inflating: content/iris/2/60.png   \n",
            "  inflating: content/iris/2/91.png   \n",
            "  inflating: content/iris/2/93.png   \n",
            "  inflating: content/iris/2/67.png   \n",
            "  inflating: content/iris/2/72.png   \n",
            "  inflating: content/iris/2/78.png   \n",
            "  inflating: content/iris/2/61.png   \n",
            "  inflating: content/iris/2/71.png   \n",
            "  inflating: content/iris/2/77.png   \n",
            "  inflating: content/iris/2/87.png   \n",
            "  inflating: content/iris/2/96.png   \n",
            "  inflating: content/iris/2/65.png   \n",
            "  inflating: content/iris/2/92.png   \n",
            "  inflating: content/iris/2/64.png   \n",
            "  inflating: content/iris/2/81.png   \n",
            "  inflating: content/iris/2/85.png   \n",
            "  inflating: content/iris/2/82.png   \n",
            "  inflating: content/iris/2/94.png   \n",
            "  inflating: content/iris/2/55.png   \n",
            "  inflating: content/iris/2/50.png   \n",
            "  inflating: content/iris/2/58.png   \n",
            "  inflating: content/iris/2/54.png   \n",
            "  inflating: content/iris/2/53.png   \n",
            "  inflating: content/iris/2/90.png   \n",
            "  inflating: content/iris/2/76.png   \n",
            "  inflating: content/iris/2/56.png   \n",
            "  inflating: content/iris/2/83.png   \n",
            "  inflating: content/iris/2/88.png   \n",
            "  inflating: content/iris/2/66.png   \n",
            "  inflating: content/iris/2/84.png   \n",
            "  inflating: content/iris/2/52.png   \n",
            "  inflating: content/iris/2/79.png   \n"
          ],
          "name": "stdout"
        }
      ]
    },
    {
      "cell_type": "code",
      "metadata": {
        "id": "axcoPZimxBzS"
      },
      "source": [
        "#!unzip /content/HeartDiseasesdataset.zip"
      ],
      "execution_count": null,
      "outputs": []
    },
    {
      "cell_type": "code",
      "metadata": {
        "colab": {
          "base_uri": "https://localhost:8080/"
        },
        "id": "gra_3QDkv9lA",
        "outputId": "649a46ae-7619-43b8-ffaa-e10a2a6eef83"
      },
      "source": [
        "!pip install split-folders"
      ],
      "execution_count": null,
      "outputs": [
        {
          "output_type": "stream",
          "text": [
            "Collecting split-folders\n",
            "  Downloading split_folders-0.4.3-py3-none-any.whl (7.4 kB)\n",
            "Installing collected packages: split-folders\n",
            "Successfully installed split-folders-0.4.3\n"
          ],
          "name": "stdout"
        }
      ]
    },
    {
      "cell_type": "code",
      "metadata": {
        "colab": {
          "base_uri": "https://localhost:8080/"
        },
        "id": "SO2R8cuawAKf",
        "outputId": "744779dd-5bd3-427e-c5f0-18de7a3afc44"
      },
      "source": [
        "import splitfolders  # or import split_folders\n",
        "splitfolders.ratio(\"/content/content/iris\", seed=1337, ratio=(.9,  .1), group_prefix=None) # default values"
      ],
      "execution_count": null,
      "outputs": [
        {
          "output_type": "stream",
          "text": [
            "Copying files: 150 files [00:00, 7001.63 files/s]\n"
          ],
          "name": "stderr"
        }
      ]
    },
    {
      "cell_type": "markdown",
      "metadata": {
        "id": "kdjaIJUDvx7N"
      },
      "source": [
        "###Import Libraries"
      ]
    },
    {
      "cell_type": "code",
      "metadata": {
        "id": "KO64taUXvxWd"
      },
      "source": [
        "\n",
        "from __future__ import print_function, division\n",
        "\n",
        "import torch\n",
        "import torch.nn as nn\n",
        "import torch.optim as optim\n",
        "from torch.optim import lr_scheduler\n",
        "import numpy as np\n",
        "import torchvision\n",
        "from torchvision import datasets, models, transforms\n",
        "import matplotlib.pyplot as plt\n",
        "import time\n",
        "import os\n",
        "import copy\n",
        "\n",
        "plt.ion()   # interactive mode"
      ],
      "execution_count": null,
      "outputs": []
    },
    {
      "cell_type": "code",
      "metadata": {
        "colab": {
          "base_uri": "https://localhost:8080/"
        },
        "id": "PxIaSy2VhDel",
        "outputId": "5d189c6f-d04c-4da5-9d2a-2bb4855eacdc"
      },
      "source": [
        "os.listdir(\"/content/output/val\")"
      ],
      "execution_count": null,
      "outputs": [
        {
          "output_type": "execute_result",
          "data": {
            "text/plain": [
              "['3', '1', '2']"
            ]
          },
          "metadata": {
            "tags": []
          },
          "execution_count": 7
        }
      ]
    },
    {
      "cell_type": "markdown",
      "metadata": {
        "id": "46Fh2xjDwG99"
      },
      "source": [
        "###Dataloaders"
      ]
    },
    {
      "cell_type": "code",
      "metadata": {
        "id": "6_T2vh0AwJHG",
        "colab": {
          "base_uri": "https://localhost:8080/"
        },
        "outputId": "b2ea0060-6641-4b0b-961a-4f0fadb91c8b"
      },
      "source": [
        "# Data augmentation and normalization for training\n",
        "# Just normalization/content/content/HeartDiseasesdataset for validation\n",
        "data_transforms = {\n",
        "    'train': transforms.Compose([\n",
        "        transforms.Resize(128),\n",
        "        transforms.ToTensor(),\n",
        "        transforms.Normalize([0.485, 0.456, 0.406], [0.229, 0.224, 0.225])\n",
        "    ]),\n",
        "    'val': transforms.Compose([\n",
        "        transforms.Resize(128),\n",
        "        transforms.ToTensor(),\n",
        "        transforms.Normalize([0.485, 0.456, 0.406], [0.229, 0.224, 0.225])\n",
        "    ]),\n",
        "}\n",
        "\n",
        "data_dir = '/content/output/'\n",
        "image_datasets = {x: datasets.ImageFolder(os.path.join(data_dir, x),\n",
        "                                          data_transforms[x])\n",
        "                  for x in ['train', 'val']}\n",
        "dataloaders = {x: torch.utils.data.DataLoader(image_datasets[x], batch_size=16,\n",
        "                                             shuffle=True, num_workers=4)\n",
        "              for x in ['train', 'val']}\n",
        "dataset_sizes = {x: len(image_datasets[x]) for x in ['train', 'val']}\n",
        "class_names = image_datasets['train'].classes\n",
        "\n",
        "device = torch.device(\"cuda:0\" if torch.cuda.is_available() else \"cpu\")"
      ],
      "execution_count": null,
      "outputs": [
        {
          "output_type": "stream",
          "text": [
            "/usr/local/lib/python3.7/dist-packages/torch/utils/data/dataloader.py:481: UserWarning: This DataLoader will create 4 worker processes in total. Our suggested max number of worker in current system is 2, which is smaller than what this DataLoader is going to create. Please be aware that excessive worker creation might get DataLoader running slow or even freeze, lower the worker number to avoid potential slowness/freeze if necessary.\n",
            "  cpuset_checked))\n"
          ],
          "name": "stderr"
        }
      ]
    },
    {
      "cell_type": "code",
      "metadata": {
        "id": "TbW3BnX3cZOD"
      },
      "source": [
        ""
      ],
      "execution_count": null,
      "outputs": []
    },
    {
      "cell_type": "code",
      "metadata": {
        "colab": {
          "base_uri": "https://localhost:8080/"
        },
        "id": "tgPAfH7Ha7t-",
        "outputId": "08c7871d-8a25-4502-ced5-7b4fa93d508b"
      },
      "source": [
        "dataset_sizes, class_names, device"
      ],
      "execution_count": null,
      "outputs": [
        {
          "output_type": "execute_result",
          "data": {
            "text/plain": [
              "({'train': 135, 'val': 15}, ['1', '2', '3'], device(type='cuda', index=0))"
            ]
          },
          "metadata": {
            "tags": []
          },
          "execution_count": 9
        }
      ]
    },
    {
      "cell_type": "code",
      "metadata": {
        "colab": {
          "base_uri": "https://localhost:8080/",
          "height": 203
        },
        "id": "5fcG3H97wLwO",
        "outputId": "20f5c92f-1243-499e-a9b8-18deefecf818"
      },
      "source": [
        "def imshow(inp, title=None):\n",
        "    \"\"\"Imshow for Tensor.\"\"\"\n",
        "    inp = inp.numpy().transpose((1, 2, 0))\n",
        "    mean = np.array([0.485, 0.456, 0.406])\n",
        "    std = np.array([0.229, 0.224, 0.225])\n",
        "    inp = std * inp + mean\n",
        "    inp = np.clip(inp, 0, 1)\n",
        "    plt.imshow(inp)\n",
        "    if title is not None:\n",
        "        plt.title(title)\n",
        "    plt.pause(0.001)  # pause a bit so that plots are updated\n",
        "\n",
        "\n",
        "# Get a batch of training data\n",
        "inputs, classes = next(iter(dataloaders['train']))\n",
        "\n",
        "# Make a grid from batch\n",
        "out = torchvision.utils.make_grid(inputs)\n",
        "\n",
        "imshow(out, title=[class_names[x] for x in classes])"
      ],
      "execution_count": null,
      "outputs": [
        {
          "output_type": "stream",
          "text": [
            "/usr/local/lib/python3.7/dist-packages/torch/utils/data/dataloader.py:481: UserWarning: This DataLoader will create 4 worker processes in total. Our suggested max number of worker in current system is 2, which is smaller than what this DataLoader is going to create. Please be aware that excessive worker creation might get DataLoader running slow or even freeze, lower the worker number to avoid potential slowness/freeze if necessary.\n",
            "  cpuset_checked))\n"
          ],
          "name": "stderr"
        },
        {
          "output_type": "display_data",
          "data": {
            "image/png": "[encoded data removed]",
            "text/plain": [
              "<Figure size 432x288 with 1 Axes>"
            ]
          },
          "metadata": {
            "tags": [],
            "needs_background": "light"
          }
        }
      ]
    },
    {
      "cell_type": "markdown",
      "metadata": {
        "id": "OCPyP5KywPBJ"
      },
      "source": [
        "### Custom Functions"
      ]
    },
    {
      "cell_type": "code",
      "metadata": {
        "id": "BJy8mhm_d_D-"
      },
      "source": [
        "import time\n",
        "import numpy as np\n",
        "import pandas as pd\n",
        "import seaborn as sns\n",
        "import matplotlib.pyplot as plt\n",
        "from tqdm import tqdm\n",
        "\n",
        "from sklearn.metrics import accuracy_score\n",
        "from sklearn.metrics import confusion_matrix\n",
        "from sklearn.metrics import f1_score\n",
        "from sklearn.datasets import fetch_openml"
      ],
      "execution_count": null,
      "outputs": []
    },
    {
      "cell_type": "code",
      "metadata": {
        "id": "bLJP8iupdKab"
      },
      "source": [
        "def train_simple_network_with_input_reshape(model, loss_func, train_loader, val_loader=None, score_funcs=None, \n",
        "                                            epochs=25, device=\"cpu\", checkpoint_file=None):\n",
        "    \"\"\"Train simple neural networks\n",
        "    \n",
        "    Keyword arguments:\n",
        "    model -- the PyTorch model / \"Module\" to train\n",
        "    loss_func -- the loss function that takes in batch in two arguments, the model outputs and the labels, and returns a score\n",
        "    train_loader -- PyTorch DataLoader object that returns tuples of (input, label) pairs. \n",
        "    val_loader -- Optional PyTorch DataLoader to evaluate on after every epoch\n",
        "    score_funcs -- A dictionary of scoring functions to use to evalue the performance of the model\n",
        "    epochs -- the number of training epochs to perform\n",
        "    device -- the compute lodation to perform training\n",
        "    \n",
        "    Here used the method provided in lecture only added code to flatten the inputs before passing to linear model\n",
        "    \"\"\"\n",
        "    to_track = [\"epoch\", \"total time\", \"train loss\"]\n",
        "    if val_loader is not None:\n",
        "        to_track.append(\"val loss\")\n",
        "    for eval_score in score_funcs:\n",
        "        to_track.append(\"train \" + eval_score )\n",
        "        if val_loader is not None:\n",
        "            to_track.append(\"val \" + eval_score )\n",
        "        \n",
        "    total_train_time = 0 #How long have we spent in the training loop? \n",
        "    results = {}\n",
        "    #Initialize every item with an empty list\n",
        "    for item in to_track:\n",
        "        results[item] = []\n",
        "    \n",
        "    #SGD is Stochastic Gradient Decent.\n",
        "    optimizer = torch.optim.SGD(model.parameters(), lr=0.001)\n",
        "\n",
        "    #Place the model on the correct compute resource (CPU or GPU)\n",
        "    model.to(device)\n",
        "    for epoch in tqdm(range(epochs), desc=\"Epoch\"):\n",
        "    \n",
        "        model = model.train()#Put our model in training mode\n",
        "        running_loss = 0.0\n",
        "        \n",
        "        y_true = []\n",
        "        y_pred = []\n",
        "\n",
        "        start = time.time()\n",
        "        for inputs, labels in tqdm(train_loader, desc=\"Train Batch\", leave=False):\n",
        "      \n",
        "            #Move the batch to the device we are using. \n",
        "            inputs = inputs.to(device)\n",
        "            labels = labels.to(device)\n",
        "            \n",
        "            batch_size = inputs.shape[0]\n",
        "\n",
        "            # PyTorch stores gradients in a mutable data structure. So we need to set it to a clean state before we use it. \n",
        "            #Otherwise, it will have old information from a previous iteration\n",
        "            optimizer.zero_grad()\n",
        "\n",
        "            #flatten the input to fit in linear model\n",
        "            y_hat = model(inputs) #this just computed f_Θ(x(i))#pass in a flattened view of inputs\n",
        "\n",
        "            # Compute loss.\n",
        "            loss = loss_func(y_hat, labels)\n",
        "\n",
        "            loss.backward()# ∇_Θ just got computed by this one call!\n",
        "\n",
        "            #Now we just need to update all the parameters! \n",
        "            optimizer.step()# Θ_{k+1} = Θ_k − η * ∇_Θ ℓ(y_hat, y)\n",
        "\n",
        "            #Now we are just grabbing some information we would like to have\n",
        "            running_loss += loss.item() * inputs.size(0)\n",
        "            \n",
        "            #moving labels & predictions back to CPU for computing / storing predictions\n",
        "            labels = labels.detach().cpu().numpy()\n",
        "            y_hat = y_hat.detach().cpu().numpy()\n",
        "            for i in range(batch_size):\n",
        "                y_true.append(labels[i])\n",
        "                y_pred.append(y_hat[i,:])\n",
        "        #end training epoch\n",
        "        end = time.time()\n",
        "        total_train_time += (end-start)\n",
        "        \n",
        "        results[\"epoch\"].append( epoch )\n",
        "        results[\"total time\"].append( total_train_time )\n",
        "        results[\"train loss\"].append( running_loss )\n",
        "        \n",
        "        y_pred = np.asarray(y_pred)\n",
        "        \n",
        "        if y_pred.shape[1] > 1: #We have a classification problem, convert to labels\n",
        "            y_pred = np.argmax(y_pred, axis=1)\n",
        "            \n",
        "        for name, score_func in score_funcs.items():\n",
        "            results[\"train \" + name].append( score_func(y_true, y_pred) )\n",
        "      \n",
        "        if val_loader is None:\n",
        "            pass\n",
        "        else:#Lets find out validation performance as we go!\n",
        "            model = model.eval() #Set the model to \"evaluation\" mode, b/c we don't want to make any updates!\n",
        "\n",
        "            y_true = []\n",
        "            y_pred = []\n",
        "            \n",
        "            running_loss = 0.0\n",
        "\n",
        "            for inputs, labels in val_loader:\n",
        "        \n",
        "                #Move the batch to the device we are using. \n",
        "                inputs = inputs.to(device)\n",
        "                labels = labels.to(device)\n",
        "\n",
        "                #flatten the input to fit in linear model\n",
        "                y_hat = model(inputs) #pass in a flattened view of inputs\n",
        "            \n",
        "                loss = loss_func(y_hat, labels)\n",
        "                \n",
        "                #Now we are just grabbing some information we would like to have\n",
        "                running_loss += loss.item() * inputs.size(0)\n",
        "\n",
        "                #moving labels & predictions back to CPU for computing / storing predictions\n",
        "                labels = labels.detach().cpu().numpy()\n",
        "                y_hat = y_hat.detach().cpu().numpy()\n",
        "                for i in range(batch_size):\n",
        "                    y_true.append(labels[i])\n",
        "                    y_pred.append(y_hat[i,:])\n",
        "                        \n",
        "            results[\"val loss\"].append( running_loss )\n",
        "\n",
        "            y_pred = np.asarray(y_pred)\n",
        "\n",
        "            if y_pred.shape[1] > 1: #We have a classification problem, convert to labels\n",
        "                y_pred = np.argmax(y_pred, axis=1)\n",
        "\n",
        "            for name, score_func in score_funcs.items():\n",
        "                results[\"val \" + name].append( score_func(y_true, y_pred) )\n",
        "                \n",
        "        if checkpoint_file is not None:\n",
        "            torch.save({\n",
        "                'epoch': epoch,\n",
        "                'c': model.state_dict(),\n",
        "                'optimizer_state_dict': optimizer.state_dict(),\n",
        "                'results' : results\n",
        "                }, checkpoint_file)\n",
        "\n",
        "    return pd.DataFrame.from_dict(results)"
      ],
      "execution_count": null,
      "outputs": []
    },
    {
      "cell_type": "code",
      "metadata": {
        "id": "yWYTk7mrwRuq"
      },
      "source": [
        "def train_model(model, criterion, optimizer, scheduler, num_epochs=25):\n",
        "    since = time.time()\n",
        "\n",
        "    best_model_wts = copy.deepcopy(model.state_dict())\n",
        "    best_acc = 0.0\n",
        "\n",
        "    res_dict = {}\n",
        "    epoch_loss_list = []\n",
        "    epoch_acc_list = []\n",
        "\n",
        "    for epoch in range(num_epochs):\n",
        "        print('Epoch {}/{}'.format(epoch, num_epochs - 1))\n",
        "        print('-' * 10)\n",
        "\n",
        "        # Each epoch has a training and validation phase\n",
        "        for phase in ['train', 'val']:\n",
        "            if phase == 'train':\n",
        "                model.train()  # Set model to training mode\n",
        "            else:\n",
        "                model.eval()   # Set model to evaluate mode\n",
        "\n",
        "            running_loss = 0.0\n",
        "            running_corrects = 0\n",
        "\n",
        "            # Iterate over data.\n",
        "            for inputs, labels in dataloaders[phase]:\n",
        "                inputs = inputs.to(device)\n",
        "                labels = labels.to(device)\n",
        "\n",
        "                # zero the parameter gradients\n",
        "                optimizer.zero_grad()\n",
        "\n",
        "                # forward\n",
        "                # track history if only in train\n",
        "                with torch.set_grad_enabled(phase == 'train'):\n",
        "                    outputs = model(inputs)\n",
        "                    _, preds = torch.max(outputs, 1)\n",
        "                    loss = criterion(outputs, labels)\n",
        "\n",
        "                    # backward + optimize only if in training phase\n",
        "                    if phase == 'train':\n",
        "                        loss.backward()\n",
        "                        optimizer.step()\n",
        "\n",
        "                # statistics\n",
        "                running_loss += loss.item() * inputs.size(0)\n",
        "                running_corrects += torch.sum(preds == labels.data)\n",
        "            if phase == 'train':\n",
        "                scheduler.step()\n",
        "\n",
        "            epoch_loss = running_loss / dataset_sizes[phase]\n",
        "            epoch_acc = running_corrects.double() / dataset_sizes[phase]\n",
        "\n",
        "            epoch_loss_list.append(epoch_loss)\n",
        "            epoch_acc_list.append(epoch_acc)\n",
        "\n",
        "            print('{} Loss: {:.4f} Acc: {:.4f}'.format(\n",
        "                phase, epoch_loss, epoch_acc))\n",
        "            \n",
        "            res_dict[phase] = epoch_acc_list\n",
        "            \n",
        "\n",
        "\n",
        "            # deep copy the model\n",
        "            if phase == 'val' and epoch_acc > best_acc:\n",
        "                best_acc = epoch_acc\n",
        "                best_model_wts = copy.deepcopy(model.state_dict())\n",
        "\n",
        "        print()\n",
        "\n",
        "    time_elapsed = time.time() - since\n",
        "    print('Training complete in {:.0f}m {:.0f}s'.format(\n",
        "        time_elapsed // 60, time_elapsed % 60))\n",
        "    print('Best val Acc: {:4f}'.format(best_acc))\n",
        "\n",
        "    # load best model weights\n",
        "    model.load_state_dict(best_model_wts)\n",
        "    return model, epoch_loss_list, epoch_acc_list,res_dict"
      ],
      "execution_count": null,
      "outputs": []
    },
    {
      "cell_type": "code",
      "metadata": {
        "id": "ZwmRV3n6wVeU"
      },
      "source": [
        "def visualize_model(model, num_images=6):\n",
        "    was_training = model.training\n",
        "    model.eval()\n",
        "    images_so_far = 0\n",
        "    fig = plt.figure()\n",
        "\n",
        "    with torch.no_grad():\n",
        "        for i, (inputs, labels) in enumerate(dataloaders['val']):\n",
        "            inputs = inputs.to(device)\n",
        "            labels = labels.to(device)\n",
        "\n",
        "            outputs = model(inputs)\n",
        "            _, preds = torch.max(outputs, 1)\n",
        "\n",
        "            for j in range(inputs.size()[0]):\n",
        "                images_so_far += 1\n",
        "                ax = plt.subplot(num_images//2, 2, images_so_far)\n",
        "                ax.axis('off')\n",
        "                ax.set_title('predicted: {}'.format(class_names[preds[j]]))\n",
        "                imshow(inputs.cpu().data[j])\n",
        "\n",
        "                if images_so_far == num_images:\n",
        "                    model.train(mode=was_training)\n",
        "                    return\n",
        "        model.train(mode=was_training)"
      ],
      "execution_count": null,
      "outputs": []
    },
    {
      "cell_type": "markdown",
      "metadata": {
        "id": "eyNiDlRxwXfn"
      },
      "source": [
        "###Train & Validations"
      ]
    },
    {
      "cell_type": "code",
      "metadata": {
        "id": "r_KWgE6IwaLU",
        "colab": {
          "base_uri": "https://localhost:8080/",
          "height": 84,
          "referenced_widgets": [
            "3ba19e932f6241699f1cd87bb1e32718",
            "c8c8758518784715a7086589d3ba114f",
            "d0c5b411ee414d7e926cb44b7bf7e8c3",
            "c0b0614473c84376949b1b297a919d30",
            "11e47c39da414f2380b7a1abda07abdf",
            "839c6185d5f14b348006718ea27f9fee",
            "53253c6cfcb041a695f8ab438d572aaf",
            "1826e7c7cdab47c5ae494d2f4e96594c"
          ]
        },
        "outputId": "555cbbf2-ec9c-473a-8095-acafa87d1ed0"
      },
      "source": [
        "model_ft = models.resnet18(pretrained=True)\n",
        "num_ftrs = model_ft.fc.in_features\n",
        "# Here the size of each output sample is set to 2.\n",
        "# Alternatively, it can be generalized to nn.Linear(num_ftrs, len(class_names)).\n",
        "model_ft.fc = nn.Linear(num_ftrs, len(class_names))\n",
        "\n",
        "model_ft = model_ft.to(device)\n",
        "\n",
        "criterion = nn.CrossEntropyLoss()\n",
        "\n",
        "# Observe that all parameters are being optimized\n",
        "#optimizer_ft = optim.SGD(model_ft.parameters(), lr=0.001, momentum=0.3)\n",
        "optimizer_ft = optim.Adam(model_ft.parameters(), lr=0.001)\n",
        "\n",
        "# Decay LR by a factor of 0.1 every 7 epochs\n",
        "exp_lr_scheduler = lr_scheduler.StepLR(optimizer_ft, step_size=3, gamma=0.1)"
      ],
      "execution_count": null,
      "outputs": [
        {
          "output_type": "stream",
          "text": [
            "Downloading: \"https://download.pytorch.org/models/resnet18-f37072fd.pth\" to /root/.cache/torch/hub/checkpoints/resnet18-f37072fd.pth\n"
          ],
          "name": "stderr"
        },
        {
          "output_type": "display_data",
          "data": {
            "application/vnd.jupyter.widget-view+json": {
              "model_id": "3ba19e932f6241699f1cd87bb1e32718",
              "version_minor": 0,
              "version_major": 2
            },
            "text/plain": [
              "HBox(children=(FloatProgress(value=0.0, max=46830571.0), HTML(value='')))"
            ]
          },
          "metadata": {
            "tags": []
          }
        },
        {
          "output_type": "stream",
          "text": [
            "\n"
          ],
          "name": "stdout"
        }
      ]
    },
    {
      "cell_type": "code",
      "metadata": {
        "id": "OE0eKD5nwdZI"
      },
      "source": [
        "model_ft, ep_loss, ep_acc, res_dict = train_model(model_ft, criterion, optimizer_ft, exp_lr_scheduler,\n",
        "                       num_epochs=20)"
      ],
      "execution_count": null,
      "outputs": []
    },
    {
      "cell_type": "code",
      "metadata": {
        "id": "SwIMkuK-lPkn"
      },
      "source": [
        "torch.save(model_ft, \"resnet_ft_iris.pth\")\n",
        "model_ft = torch.load(\"/content/resnet_ft_iris.pth\")\n"
      ],
      "execution_count": null,
      "outputs": []
    },
    {
      "cell_type": "code",
      "metadata": {
        "id": "uBd0tLpEdqFp"
      },
      "source": [
        "# loss_func = nn.CrossEntropyLoss()\n",
        "# results_pd1 = train_simple_network_with_input_reshape(model_ft, loss_func, dataloaders['train'], epochs=25, val_loader=dataloaders['val'],\n",
        "#                                                       checkpoint_file='model_ft_1.pt', score_funcs={'Acc':accuracy_score}, device=device)"
      ],
      "execution_count": null,
      "outputs": []
    },
    {
      "cell_type": "code",
      "metadata": {
        "id": "pmSvLj6SdyJl"
      },
      "source": [
        "# sns.lineplot(x='epoch', y='train Acc', data=results_pd1, label='Train')\n",
        "# sns.lineplot(x='epoch', y='val Acc', data=results_pd1, label='Validation')"
      ],
      "execution_count": null,
      "outputs": []
    },
    {
      "cell_type": "code",
      "metadata": {
        "id": "j6p84OlhwkL4"
      },
      "source": [
        "#pr, tpr, _ = roc_curve(y, y_score)\n",
        "#roc_auc = auc(fpr, tpr)\n",
        "print(\"average_precision_score : {}\".format(average_precision_score(y, y_score)))\n",
        "print(\"roc_auc_score : {}\".format(str(roc_auc_score(y, y_score))))\n",
        "print(\"accuracy : {}\".format(str(accuracy_score(y, y_score))))"
      ],
      "execution_count": null,
      "outputs": []
    },
    {
      "cell_type": "code",
      "metadata": {
        "id": "oBPQ5Ttxxjfh"
      },
      "source": [
        "nb_classes = len(class_names)\n",
        "\n",
        "confusion_matrix = torch.zeros(nb_classes, nb_classes)\n",
        "with torch.no_grad():\n",
        "    for i, (inputs, classes) in enumerate(dataloaders['val']):\n",
        "        inputs = inputs.to(device)\n",
        "        classes = classes.to(device)\n",
        "        outputs = model_ft(inputs)\n",
        "        _, preds = torch.max(outputs, 1)\n",
        "        for t, p in zip(classes.view(-1), preds.view(-1)):\n",
        "                confusion_matrix[t.long(), p.long()] += 1\n",
        "\n",
        "print(confusion_matrix)\n",
        "\n",
        "print(confusion_matrix.diag()/confusion_matrix.sum(1))\n",
        "\n",
        "plt.figure(figsize=(15,10))\n",
        "\n",
        "# class_names = ['0','1']\n",
        "df_cm = pd.DataFrame(confusion_matrix, index=class_names, columns=class_names).astype(int)\n",
        "heatmap = sns.heatmap(df_cm, annot=True, fmt=\"d\")\n",
        "\n",
        "heatmap.yaxis.set_ticklabels(heatmap.yaxis.get_ticklabels(), rotation=0, ha='right',fontsize=15)\n",
        "heatmap.xaxis.set_ticklabels(heatmap.xaxis.get_ticklabels(), rotation=45, ha='right',fontsize=15)\n",
        "plt.ylabel('True label')\n",
        "plt.xlabel('Predicted label')"
      ],
      "execution_count": null,
      "outputs": []
    },
    {
      "cell_type": "code",
      "metadata": {
        "id": "gPZ-_wQxzI-T"
      },
      "source": [
        "#print('Test accuracy:{:.4f}'.format(correct.double() / dataset_sizes['val']))\n",
        "print('Sensitivity: ', 100*confusion_matrix[0][0]/(confusion_matrix[0][0]+confusion_matrix[0][1]))\n",
        "print('Specificity: ', 100*confusion_matrix[1][1]/(confusion_matrix[1][1]+confusion_matrix[1][0]))\n",
        "print('PPV: ', 100*confusion_matrix[0][0]/(confusion_matrix[0][0]+confusion_matrix[1][0]))\n",
        "print('NPV: ', 100*confusion_matrix[1][1]/(confusion_matrix[1][1]+confusion_matrix[0][1]))"
      ],
      "execution_count": null,
      "outputs": []
    },
    {
      "cell_type": "code",
      "metadata": {
        "id": "Y1rFJn2djhLb"
      },
      "source": [
        "model_ft = models.densenet121(pretrained=True)\n",
        "#num_ftrs = model_ft.fc.in_features\n",
        "# Here the size of each output sample is set to 2.\n",
        "# Alternatively, it can be generalized to nn.Linear(num_ftrs, len(class_names)).\n",
        "model_ft.fc = nn.Linear(num_ftrs, len(class_names))\n",
        "\n",
        "model_ft = model_ft.to(device)\n",
        "\n",
        "criterion = nn.CrossEntropyLoss()\n",
        "\n",
        "# Observe that all parameters are being optimized\n",
        "#optimizer_ft = optim.SGD(model_ft.parameters(), lr=0.001, momentum=0.3)\n",
        "optimizer_ft = optim.Adam(model_ft.parameters(), lr=0.001)\n",
        "\n",
        "# Decay LR by a factor of 0.1 every 7 epochs\n",
        "exp_lr_scheduler = lr_scheduler.StepLR(optimizer_ft, step_size=3, gamma=0.1)"
      ],
      "execution_count": null,
      "outputs": []
    },
    {
      "cell_type": "code",
      "metadata": {
        "id": "gyjJA4-5jhXi"
      },
      "source": [
        "model_ft, ep_loss, ep_acc, res_dict = train_model(model_ft, criterion, optimizer_ft, exp_lr_scheduler,\n",
        "                       num_epochs=20)"
      ],
      "execution_count": null,
      "outputs": []
    },
    {
      "cell_type": "code",
      "metadata": {
        "id": "jHNn5VmEjh0n"
      },
      "source": [
        "torch.save(model_ft, \"densenet_ft_iris.pth\")\n",
        "model_ft = torch.load(\"/content/densenet_ft_iris.pth\")"
      ],
      "execution_count": null,
      "outputs": []
    },
    {
      "cell_type": "code",
      "metadata": {
        "id": "rkkzDRkGkH4H",
        "colab": {
          "base_uri": "https://localhost:8080/",
          "height": 84,
          "referenced_widgets": [
            "dda6cd77f47642b9b326f0c31b8f9f94",
            "623bc3eceedf456c85274ab2066ac06f",
            "9be03522e0b44c5690bd1124b3375ca0",
            "8f3d8be4458946cbb8bca3347373c808",
            "081a1cfdac6e45fa82cdc7b96ead9950",
            "8b4d046561db4182a61d4782795bd69e",
            "421418f664f545d5abc9fed461f20421",
            "3eda745caa074d6794770323ce75efca"
          ]
        },
        "outputId": "15fba668-e894-4e39-d0b0-203a08387a3a"
      },
      "source": [
        "model_ft = models.googlenet(pretrained=True)\n",
        "#num_ftrs = model_ft.fc.in_features\n",
        "# Here the size of each output sample is set to 2.\n",
        "# Alternatively, it can be generalized to nn.Linear(num_ftrs, len(class_names)).\n",
        "model_ft.fc = nn.Linear(num_ftrs, len(class_names))\n",
        "\n",
        "model_ft = model_ft.to(device)\n",
        "\n",
        "criterion = nn.CrossEntropyLoss()\n",
        "\n",
        "# Observe that all parameters are being optimized\n",
        "#optimizer_ft = optim.SGD(model_ft.parameters(), lr=0.001, momentum=0.3)\n",
        "optimizer_ft = optim.Adam(model_ft.parameters(), lr=0.001)\n",
        "\n",
        "# Decay LR by a factor of 0.1 every 7 epochs\n",
        "exp_lr_scheduler = lr_scheduler.StepLR(optimizer_ft, step_size=3, gamma=0.1)"
      ],
      "execution_count": null,
      "outputs": [
        {
          "output_type": "stream",
          "text": [
            "Downloading: \"https://download.pytorch.org/models/googlenet-1378be20.pth\" to /root/.cache/torch/hub/checkpoints/googlenet-1378be20.pth\n"
          ],
          "name": "stderr"
        },
        {
          "output_type": "display_data",
          "data": {
            "application/vnd.jupyter.widget-view+json": {
              "model_id": "dda6cd77f47642b9b326f0c31b8f9f94",
              "version_minor": 0,
              "version_major": 2
            },
            "text/plain": [
              "HBox(children=(FloatProgress(value=0.0, max=52147035.0), HTML(value='')))"
            ]
          },
          "metadata": {
            "tags": []
          }
        },
        {
          "output_type": "stream",
          "text": [
            "\n"
          ],
          "name": "stdout"
        }
      ]
    },
    {
      "cell_type": "code",
      "metadata": {
        "id": "Xu0UhMkikps7",
        "colab": {
          "base_uri": "https://localhost:8080/",
          "height": 418
        },
        "outputId": "3396e347-009a-4056-bbad-78cea7523e1a"
      },
      "source": [
        "model_ft, ep_loss, ep_acc, res_dict = train_model(model_ft, criterion, optimizer_ft, exp_lr_scheduler,\n",
        "                       num_epochs=20)"
      ],
      "execution_count": null,
      "outputs": [
        {
          "output_type": "stream",
          "text": [
            "Epoch 0/19\n",
            "----------\n"
          ],
          "name": "stdout"
        },
        {
          "output_type": "stream",
          "text": [
            "/usr/local/lib/python3.7/dist-packages/torch/utils/data/dataloader.py:481: UserWarning: This DataLoader will create 4 worker processes in total. Our suggested max number of worker in current system is 2, which is smaller than what this DataLoader is going to create. Please be aware that excessive worker creation might get DataLoader running slow or even freeze, lower the worker number to avoid potential slowness/freeze if necessary.\n",
            "  cpuset_checked))\n"
          ],
          "name": "stderr"
        },
        {
          "output_type": "error",
          "ename": "RuntimeError",
          "evalue": "ignored",
          "traceback": [
            "\u001b[0;31m---------------------------------------------------------------------------\u001b[0m",
            "\u001b[0;31mRuntimeError\u001b[0m                              Traceback (most recent call last)",
            "\u001b[0;32m<ipython-input-19-96e613171b31>\u001b[0m in \u001b[0;36m<module>\u001b[0;34m()\u001b[0m\n\u001b[1;32m      1\u001b[0m model_ft, ep_loss, ep_acc, res_dict = train_model(model_ft, criterion, optimizer_ft, exp_lr_scheduler,\n\u001b[0;32m----> 2\u001b[0;31m                        num_epochs=20)\n\u001b[0m",
            "\u001b[0;32m<ipython-input-13-544bbc5978af>\u001b[0m in \u001b[0;36mtrain_model\u001b[0;34m(model, criterion, optimizer, scheduler, num_epochs)\u001b[0m\n\u001b[1;32m     40\u001b[0m                     \u001b[0;31m# backward + optimize only if in training phase\u001b[0m\u001b[0;34m\u001b[0m\u001b[0;34m\u001b[0m\u001b[0;34m\u001b[0m\u001b[0m\n\u001b[1;32m     41\u001b[0m                     \u001b[0;32mif\u001b[0m \u001b[0mphase\u001b[0m \u001b[0;34m==\u001b[0m \u001b[0;34m'train'\u001b[0m\u001b[0;34m:\u001b[0m\u001b[0;34m\u001b[0m\u001b[0;34m\u001b[0m\u001b[0m\n\u001b[0;32m---> 42\u001b[0;31m                         \u001b[0mloss\u001b[0m\u001b[0;34m.\u001b[0m\u001b[0mbackward\u001b[0m\u001b[0;34m(\u001b[0m\u001b[0;34m)\u001b[0m\u001b[0;34m\u001b[0m\u001b[0;34m\u001b[0m\u001b[0m\n\u001b[0m\u001b[1;32m     43\u001b[0m                         \u001b[0moptimizer\u001b[0m\u001b[0;34m.\u001b[0m\u001b[0mstep\u001b[0m\u001b[0;34m(\u001b[0m\u001b[0;34m)\u001b[0m\u001b[0;34m\u001b[0m\u001b[0;34m\u001b[0m\u001b[0m\n\u001b[1;32m     44\u001b[0m \u001b[0;34m\u001b[0m\u001b[0m\n",
            "\u001b[0;32m/usr/local/lib/python3.7/dist-packages/torch/_tensor.py\u001b[0m in \u001b[0;36mbackward\u001b[0;34m(self, gradient, retain_graph, create_graph, inputs)\u001b[0m\n\u001b[1;32m    253\u001b[0m                 \u001b[0mcreate_graph\u001b[0m\u001b[0;34m=\u001b[0m\u001b[0mcreate_graph\u001b[0m\u001b[0;34m,\u001b[0m\u001b[0;34m\u001b[0m\u001b[0;34m\u001b[0m\u001b[0m\n\u001b[1;32m    254\u001b[0m                 inputs=inputs)\n\u001b[0;32m--> 255\u001b[0;31m         \u001b[0mtorch\u001b[0m\u001b[0;34m.\u001b[0m\u001b[0mautograd\u001b[0m\u001b[0;34m.\u001b[0m\u001b[0mbackward\u001b[0m\u001b[0;34m(\u001b[0m\u001b[0mself\u001b[0m\u001b[0;34m,\u001b[0m \u001b[0mgradient\u001b[0m\u001b[0;34m,\u001b[0m \u001b[0mretain_graph\u001b[0m\u001b[0;34m,\u001b[0m \u001b[0mcreate_graph\u001b[0m\u001b[0;34m,\u001b[0m \u001b[0minputs\u001b[0m\u001b[0;34m=\u001b[0m\u001b[0minputs\u001b[0m\u001b[0;34m)\u001b[0m\u001b[0;34m\u001b[0m\u001b[0;34m\u001b[0m\u001b[0m\n\u001b[0m\u001b[1;32m    256\u001b[0m \u001b[0;34m\u001b[0m\u001b[0m\n\u001b[1;32m    257\u001b[0m     \u001b[0;32mdef\u001b[0m \u001b[0mregister_hook\u001b[0m\u001b[0;34m(\u001b[0m\u001b[0mself\u001b[0m\u001b[0;34m,\u001b[0m \u001b[0mhook\u001b[0m\u001b[0;34m)\u001b[0m\u001b[0;34m:\u001b[0m\u001b[0;34m\u001b[0m\u001b[0;34m\u001b[0m\u001b[0m\n",
            "\u001b[0;32m/usr/local/lib/python3.7/dist-packages/torch/autograd/__init__.py\u001b[0m in \u001b[0;36mbackward\u001b[0;34m(tensors, grad_tensors, retain_graph, create_graph, grad_variables, inputs)\u001b[0m\n\u001b[1;32m    147\u001b[0m     Variable._execution_engine.run_backward(\n\u001b[1;32m    148\u001b[0m         \u001b[0mtensors\u001b[0m\u001b[0;34m,\u001b[0m \u001b[0mgrad_tensors_\u001b[0m\u001b[0;34m,\u001b[0m \u001b[0mretain_graph\u001b[0m\u001b[0;34m,\u001b[0m \u001b[0mcreate_graph\u001b[0m\u001b[0;34m,\u001b[0m \u001b[0minputs\u001b[0m\u001b[0;34m,\u001b[0m\u001b[0;34m\u001b[0m\u001b[0;34m\u001b[0m\u001b[0m\n\u001b[0;32m--> 149\u001b[0;31m         allow_unreachable=True, accumulate_grad=True)  # allow_unreachable flag\n\u001b[0m\u001b[1;32m    150\u001b[0m \u001b[0;34m\u001b[0m\u001b[0m\n\u001b[1;32m    151\u001b[0m \u001b[0;34m\u001b[0m\u001b[0m\n",
            "\u001b[0;31mRuntimeError\u001b[0m: Function AddmmBackward returned an invalid gradient at index 1 - got [16, 512] but expected shape compatible with [16, 1024]"
          ]
        }
      ]
    },
    {
      "cell_type": "code",
      "metadata": {
        "id": "MmhlcQfkkIbO"
      },
      "source": [
        "torch.save(model_ft, \"inception_ft_iris.pth\")\n",
        "model_ft = torch.load(\"/content/inception_ft_iris.pth\")"
      ],
      "execution_count": null,
      "outputs": []
    },
    {
      "cell_type": "code",
      "metadata": {
        "id": "G57_bWwNkIgx"
      },
      "source": [
        ""
      ],
      "execution_count": null,
      "outputs": []
    },
    {
      "cell_type": "markdown",
      "metadata": {
        "id": "D7url8xU0eD1"
      },
      "source": [
        ""
      ]
    },
    {
      "cell_type": "code",
      "metadata": {
        "id": "xtT_1F9T0eeo"
      },
      "source": [
        "def getConfusionMatrix(model, show_image=False):\n",
        "    model.eval() #set the model to evaluation mode\n",
        "    confusion_matrix=np.zeros((2,2),dtype=int) #initialize a confusion matrix\n",
        "    num_images=dataloaders['val'] #size of the testset\n",
        "    \n",
        "    with torch.no_grad(): #disable back prop to test the model\n",
        "        for i, (inputs, labels) in enumerate(dataloaders['val']):\n",
        "            inputs = inputs.to(device)\n",
        "            labels = labels.to(device)\n",
        "            #get predictions of the model\n",
        "            outputs = model(inputs) \n",
        "            _, preds = torch.max(outputs, 1) \n",
        "            \n",
        "            #get confusion matrix\n",
        "            for j in range(inputs.size()[0]): \n",
        "                if preds[j]==1 and labels[j]==1:\n",
        "                    term='TP'\n",
        "                    confusion_matrix[0][0]+=1\n",
        "                elif preds[j]==1 and labels[j]==0:\n",
        "                    term='FP'\n",
        "                    confusion_matrix[1][0]+=1\n",
        "                elif preds[j]==0 and labels[j]==1:\n",
        "                    term='FN'\n",
        "                    confusion_matrix[0][1]+=1\n",
        "                elif preds[j]==0 and labels[j]==0:\n",
        "                    term='TN'\n",
        "                    confusion_matrix[1][1]+=1\n",
        "                #show image and its class in confusion matrix    \n",
        "                if show_image:\n",
        "                    print('predicted: {}'.format(class_names[preds[j]]))\n",
        "                    print(term)\n",
        "                    imshow(inputs.cpu().data[j])\n",
        "                    print()\n",
        "        #print results\n",
        "        print('Confusion Matrix: ')\n",
        "        print(confusion_matrix)\n",
        "        print()\n",
        "        print('Sensitivity: ', 100*confusion_matrix[0][0]/(confusion_matrix[0][0]+confusion_matrix[0][1]))\n",
        "        print('Specificity: ', 100*confusion_matrix[1][1]/(confusion_matrix[1][1]+confusion_matrix[1][0]))\n",
        "        print('PPV: ', 100*confusion_matrix[0][0]/(confusion_matrix[0][0]+confusion_matrix[1][0]))\n",
        "        print('NPV: ', 100*confusion_matrix[1][1]/(confusion_matrix[1][1]+confusion_matrix[0][1]))\n",
        "        \n",
        "        return confusion_matrix"
      ],
      "execution_count": null,
      "outputs": []
    },
    {
      "cell_type": "code",
      "metadata": {
        "id": "GEBfZOB00gi1"
      },
      "source": [
        "conf_mat = getConfusionMatrix(model_ft)\n",
        "#conf_mat\n"
      ],
      "execution_count": null,
      "outputs": []
    },
    {
      "cell_type": "code",
      "metadata": {
        "id": "kDxsiUyQ5aux"
      },
      "source": [
        "# epochs= np.arange(start=0, stop=25, step=1)\n",
        "\n",
        "# plt.plot(epochs, train_acc[0], 'g', label='Training acc')\n",
        "# plt.plot(epochs, val_acc[0], 'b', label='validation acc')\n",
        "# plt.title('Training and Validation acc')\n",
        "# plt.xlabel('Epochs')\n",
        "# plt.ylabel('acc')\n",
        "# plt.legend()\n",
        "# plt.show()"
      ],
      "execution_count": null,
      "outputs": []
    },
    {
      "cell_type": "code",
      "metadata": {
        "id": "_eLE6yMJwgXZ"
      },
      "source": [
        "## save the model...\n",
        "torch.save(model_ft, \"model_ft_diabetics_96.pth\")   "
      ],
      "execution_count": null,
      "outputs": []
    },
    {
      "cell_type": "code",
      "metadata": {
        "id": "aVmrXchxwji5"
      },
      "source": [
        "# visualize_model(model_ft)"
      ],
      "execution_count": null,
      "outputs": []
    },
    {
      "cell_type": "markdown",
      "metadata": {
        "id": "DVHMjgu4wqgu"
      },
      "source": [
        "###Convolutional Layer Fixed"
      ]
    },
    {
      "cell_type": "code",
      "metadata": {
        "id": "m6O1svlWwp6p"
      },
      "source": [
        "model_conv = torchvision.models.resnet18(pretrained=True)\n",
        "for param in model_conv.parameters():\n",
        "    param.requires_grad = False\n",
        "\n",
        "# Parameters of newly constructed modules have requires_grad=True by default\n",
        "num_ftrs = model_conv.fc.in_features\n",
        "model_conv.fc = nn.Linear(num_ftrs, 2)\n",
        "\n",
        "model_conv = model_conv.to(device)\n",
        "\n",
        "criterion = nn.CrossEntropyLoss()\n",
        "\n",
        "# Observe that only parameters of final layer are being optimized as\n",
        "# opposed to before.\n",
        "optimizer_conv = optim.SGD(model_conv.fc.parameters(), lr=0.001, momentum=0.9)\n",
        "\n",
        "# Decay LR by a factor of 0.1 every 7 epochs\n",
        "exp_lr_scheduler = lr_scheduler.StepLR(optimizer_conv, step_size=7, gamma=0.1)"
      ],
      "execution_count": null,
      "outputs": []
    },
    {
      "cell_type": "code",
      "metadata": {
        "id": "_OoWe_Guwxvw"
      },
      "source": [
        "model_conv = train_model(model_conv, criterion, optimizer_conv,\n",
        "                         exp_lr_scheduler, num_epochs=50)"
      ],
      "execution_count": null,
      "outputs": []
    },
    {
      "cell_type": "code",
      "metadata": {
        "id": "U93trvmiwz9q"
      },
      "source": [
        "torch.save(model_conv, \"model_conv_diabetics_94.pth\")"
      ],
      "execution_count": null,
      "outputs": []
    },
    {
      "cell_type": "code",
      "metadata": {
        "id": "SWIS-QK6w1LS"
      },
      "source": [
        "visualize_model(model_conv)\n",
        "\n",
        "plt.ioff()\n",
        "plt.show()"
      ],
      "execution_count": null,
      "outputs": []
    }
  ]
}