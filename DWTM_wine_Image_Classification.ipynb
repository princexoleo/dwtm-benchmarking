{
  "nbformat": 4,
  "nbformat_minor": 0,
  "metadata": {
    "accelerator": "TPU",
    "colab": {
      "name": "DWTM_wine_Image_Classification.ipynb",
      "provenance": [],
      "collapsed_sections": [
        "DVHMjgu4wqgu"
      ],
      "machine_shape": "hm"
    },
    "kernelspec": {
      "display_name": "Python 3",
      "name": "python3"
    },
    "widgets": {
      "application/vnd.jupyter.widget-state+json": {
        "ee17ac24deb940879764dd0cdbb374ad": {
          "model_module": "@jupyter-widgets/controls",
          "model_name": "HBoxModel",
          "model_module_version": "1.5.0",
          "state": {
            "_view_name": "HBoxView",
            "_dom_classes": [],
            "_model_name": "HBoxModel",
            "_view_module": "@jupyter-widgets/controls",
            "_model_module_version": "1.5.0",
            "_view_count": null,
            "_view_module_version": "1.5.0",
            "box_style": "",
            "layout": "IPY_MODEL_978a6a7909104347a10d2d4716389032",
            "_model_module": "@jupyter-widgets/controls",
            "children": [
              "IPY_MODEL_9a3a03a6175a446d8a281316d162e1e7",
              "IPY_MODEL_bf017543bfb5406c9dce2dbdf42efeb2",
              "IPY_MODEL_11e562b6dd344074a812862c7266c8a3"
            ]
          }
        },
        "978a6a7909104347a10d2d4716389032": {
          "model_module": "@jupyter-widgets/base",
          "model_name": "LayoutModel",
          "model_module_version": "1.2.0",
          "state": {
            "_view_name": "LayoutView",
            "grid_template_rows": null,
            "right": null,
            "justify_content": null,
            "_view_module": "@jupyter-widgets/base",
            "overflow": null,
            "_model_module_version": "1.2.0",
            "_view_count": null,
            "flex_flow": null,
            "width": null,
            "min_width": null,
            "border": null,
            "align_items": null,
            "bottom": null,
            "_model_module": "@jupyter-widgets/base",
            "top": null,
            "grid_column": null,
            "overflow_y": null,
            "overflow_x": null,
            "grid_auto_flow": null,
            "grid_area": null,
            "grid_template_columns": null,
            "flex": null,
            "_model_name": "LayoutModel",
            "justify_items": null,
            "grid_row": null,
            "max_height": null,
            "align_content": null,
            "visibility": null,
            "align_self": null,
            "height": null,
            "min_height": null,
            "padding": null,
            "grid_auto_rows": null,
            "grid_gap": null,
            "max_width": null,
            "order": null,
            "_view_module_version": "1.2.0",
            "grid_template_areas": null,
            "object_position": null,
            "object_fit": null,
            "grid_auto_columns": null,
            "margin": null,
            "display": null,
            "left": null
          }
        },
        "9a3a03a6175a446d8a281316d162e1e7": {
          "model_module": "@jupyter-widgets/controls",
          "model_name": "HTMLModel",
          "model_module_version": "1.5.0",
          "state": {
            "_view_name": "HTMLView",
            "style": "IPY_MODEL_fa835bcbe1ae4a938e288b84d5ea31a9",
            "_dom_classes": [],
            "description": "",
            "_model_name": "HTMLModel",
            "placeholder": "​",
            "_view_module": "@jupyter-widgets/controls",
            "_model_module_version": "1.5.0",
            "value": "100%",
            "_view_count": null,
            "_view_module_version": "1.5.0",
            "description_tooltip": null,
            "_model_module": "@jupyter-widgets/controls",
            "layout": "IPY_MODEL_67de32c2c5f248509f0149dad831d015"
          }
        },
        "bf017543bfb5406c9dce2dbdf42efeb2": {
          "model_module": "@jupyter-widgets/controls",
          "model_name": "FloatProgressModel",
          "model_module_version": "1.5.0",
          "state": {
            "_view_name": "ProgressView",
            "style": "IPY_MODEL_85eabed2377c4405bf528e1ebdf695ba",
            "_dom_classes": [],
            "description": "",
            "_model_name": "FloatProgressModel",
            "bar_style": "success",
            "max": 52147035,
            "_view_module": "@jupyter-widgets/controls",
            "_model_module_version": "1.5.0",
            "value": 52147035,
            "_view_count": null,
            "_view_module_version": "1.5.0",
            "orientation": "horizontal",
            "min": 0,
            "description_tooltip": null,
            "_model_module": "@jupyter-widgets/controls",
            "layout": "IPY_MODEL_3c77f41976934e40b59bf6eef09a9f31"
          }
        },
        "11e562b6dd344074a812862c7266c8a3": {
          "model_module": "@jupyter-widgets/controls",
          "model_name": "HTMLModel",
          "model_module_version": "1.5.0",
          "state": {
            "_view_name": "HTMLView",
            "style": "IPY_MODEL_17a814bee89a4f79a0521b6dd2a92b65",
            "_dom_classes": [],
            "description": "",
            "_model_name": "HTMLModel",
            "placeholder": "​",
            "_view_module": "@jupyter-widgets/controls",
            "_model_module_version": "1.5.0",
            "value": " 49.7M/49.7M [00:00&lt;00:00, 76.7MB/s]",
            "_view_count": null,
            "_view_module_version": "1.5.0",
            "description_tooltip": null,
            "_model_module": "@jupyter-widgets/controls",
            "layout": "IPY_MODEL_eb2f31a5cf4b45ebac2b32fa5910b605"
          }
        },
        "fa835bcbe1ae4a938e288b84d5ea31a9": {
          "model_module": "@jupyter-widgets/controls",
          "model_name": "DescriptionStyleModel",
          "model_module_version": "1.5.0",
          "state": {
            "_view_name": "StyleView",
            "_model_name": "DescriptionStyleModel",
            "description_width": "",
            "_view_module": "@jupyter-widgets/base",
            "_model_module_version": "1.5.0",
            "_view_count": null,
            "_view_module_version": "1.2.0",
            "_model_module": "@jupyter-widgets/controls"
          }
        },
        "67de32c2c5f248509f0149dad831d015": {
          "model_module": "@jupyter-widgets/base",
          "model_name": "LayoutModel",
          "model_module_version": "1.2.0",
          "state": {
            "_view_name": "LayoutView",
            "grid_template_rows": null,
            "right": null,
            "justify_content": null,
            "_view_module": "@jupyter-widgets/base",
            "overflow": null,
            "_model_module_version": "1.2.0",
            "_view_count": null,
            "flex_flow": null,
            "width": null,
            "min_width": null,
            "border": null,
            "align_items": null,
            "bottom": null,
            "_model_module": "@jupyter-widgets/base",
            "top": null,
            "grid_column": null,
            "overflow_y": null,
            "overflow_x": null,
            "grid_auto_flow": null,
            "grid_area": null,
            "grid_template_columns": null,
            "flex": null,
            "_model_name": "LayoutModel",
            "justify_items": null,
            "grid_row": null,
            "max_height": null,
            "align_content": null,
            "visibility": null,
            "align_self": null,
            "height": null,
            "min_height": null,
            "padding": null,
            "grid_auto_rows": null,
            "grid_gap": null,
            "max_width": null,
            "order": null,
            "_view_module_version": "1.2.0",
            "grid_template_areas": null,
            "object_position": null,
            "object_fit": null,
            "grid_auto_columns": null,
            "margin": null,
            "display": null,
            "left": null
          }
        },
        "85eabed2377c4405bf528e1ebdf695ba": {
          "model_module": "@jupyter-widgets/controls",
          "model_name": "ProgressStyleModel",
          "model_module_version": "1.5.0",
          "state": {
            "_view_name": "StyleView",
            "_model_name": "ProgressStyleModel",
            "description_width": "",
            "_view_module": "@jupyter-widgets/base",
            "_model_module_version": "1.5.0",
            "_view_count": null,
            "_view_module_version": "1.2.0",
            "bar_color": null,
            "_model_module": "@jupyter-widgets/controls"
          }
        },
        "3c77f41976934e40b59bf6eef09a9f31": {
          "model_module": "@jupyter-widgets/base",
          "model_name": "LayoutModel",
          "model_module_version": "1.2.0",
          "state": {
            "_view_name": "LayoutView",
            "grid_template_rows": null,
            "right": null,
            "justify_content": null,
            "_view_module": "@jupyter-widgets/base",
            "overflow": null,
            "_model_module_version": "1.2.0",
            "_view_count": null,
            "flex_flow": null,
            "width": null,
            "min_width": null,
            "border": null,
            "align_items": null,
            "bottom": null,
            "_model_module": "@jupyter-widgets/base",
            "top": null,
            "grid_column": null,
            "overflow_y": null,
            "overflow_x": null,
            "grid_auto_flow": null,
            "grid_area": null,
            "grid_template_columns": null,
            "flex": null,
            "_model_name": "LayoutModel",
            "justify_items": null,
            "grid_row": null,
            "max_height": null,
            "align_content": null,
            "visibility": null,
            "align_self": null,
            "height": null,
            "min_height": null,
            "padding": null,
            "grid_auto_rows": null,
            "grid_gap": null,
            "max_width": null,
            "order": null,
            "_view_module_version": "1.2.0",
            "grid_template_areas": null,
            "object_position": null,
            "object_fit": null,
            "grid_auto_columns": null,
            "margin": null,
            "display": null,
            "left": null
          }
        },
        "17a814bee89a4f79a0521b6dd2a92b65": {
          "model_module": "@jupyter-widgets/controls",
          "model_name": "DescriptionStyleModel",
          "model_module_version": "1.5.0",
          "state": {
            "_view_name": "StyleView",
            "_model_name": "DescriptionStyleModel",
            "description_width": "",
            "_view_module": "@jupyter-widgets/base",
            "_model_module_version": "1.5.0",
            "_view_count": null,
            "_view_module_version": "1.2.0",
            "_model_module": "@jupyter-widgets/controls"
          }
        },
        "eb2f31a5cf4b45ebac2b32fa5910b605": {
          "model_module": "@jupyter-widgets/base",
          "model_name": "LayoutModel",
          "model_module_version": "1.2.0",
          "state": {
            "_view_name": "LayoutView",
            "grid_template_rows": null,
            "right": null,
            "justify_content": null,
            "_view_module": "@jupyter-widgets/base",
            "overflow": null,
            "_model_module_version": "1.2.0",
            "_view_count": null,
            "flex_flow": null,
            "width": null,
            "min_width": null,
            "border": null,
            "align_items": null,
            "bottom": null,
            "_model_module": "@jupyter-widgets/base",
            "top": null,
            "grid_column": null,
            "overflow_y": null,
            "overflow_x": null,
            "grid_auto_flow": null,
            "grid_area": null,
            "grid_template_columns": null,
            "flex": null,
            "_model_name": "LayoutModel",
            "justify_items": null,
            "grid_row": null,
            "max_height": null,
            "align_content": null,
            "visibility": null,
            "align_self": null,
            "height": null,
            "min_height": null,
            "padding": null,
            "grid_auto_rows": null,
            "grid_gap": null,
            "max_width": null,
            "order": null,
            "_view_module_version": "1.2.0",
            "grid_template_areas": null,
            "object_position": null,
            "object_fit": null,
            "grid_auto_columns": null,
            "margin": null,
            "display": null,
            "left": null
          }
        }
      }
    }
  },
  "cells": [
    {
      "cell_type": "code",
      "metadata": {
        "colab": {
          "base_uri": "https://localhost:8080/"
        },
        "id": "pJbYXou6chZf",
        "outputId": "4d259556-d299-474e-b418-d676099ad587"
      },
      "source": [
        "!nvidia-smi"
      ],
      "execution_count": null,
      "outputs": [
        {
          "output_type": "stream",
          "text": [
            "NVIDIA-SMI has failed because it couldn't communicate with the NVIDIA driver. Make sure that the latest NVIDIA driver is installed and running.\n",
            "\n"
          ],
          "name": "stdout"
        }
      ]
    },
    {
      "cell_type": "markdown",
      "metadata": {
        "id": "lmKIFQxcvdw2"
      },
      "source": [
        "## Download ID:\n",
        "* Diabetics dataset : 1l71UNNM-KSpPfyWOC9meK0G1ZhRJ6M9K\n",
        "    command line `!gdown --id 1l71UNNM-KSpPfyWOC9meK0G1ZhRJ6M9K`"
      ]
    },
    {
      "cell_type": "code",
      "metadata": {
        "colab": {
          "base_uri": "https://localhost:8080/"
        },
        "id": "jaG_V9027o0n",
        "outputId": "75c46ecf-20db-46b2-8484-ed35b1b4d536"
      },
      "source": [
        "!gdown --id 1j6BFDUNNgJRxB9td9RQfqDo6SkPBgry1"
      ],
      "execution_count": null,
      "outputs": [
        {
          "output_type": "stream",
          "text": [
            "Downloading...\n",
            "From: https://drive.google.com/uc?id=1j6BFDUNNgJRxB9td9RQfqDo6SkPBgry1\n",
            "To: /content/wine.rar\n",
            "\r  0% 0.00/1.36M [00:00<?, ?B/s]\r100% 1.36M/1.36M [00:00<00:00, 89.8MB/s]\n"
          ],
          "name": "stdout"
        }
      ]
    },
    {
      "cell_type": "code",
      "metadata": {
        "colab": {
          "base_uri": "https://localhost:8080/"
        },
        "id": "0X63BxUNg53k",
        "outputId": "9e2dd54a-2c03-4176-b0b3-8850d02199ff"
      },
      "source": [
        "!gdown --id 1iwYF9yPht_y_cJ_Y6sQ0jf4omEi_8rl5"
      ],
      "execution_count": null,
      "outputs": [
        {
          "output_type": "stream",
          "text": [
            "Downloading...\n",
            "From: https://drive.google.com/uc?id=1iwYF9yPht_y_cJ_Y6sQ0jf4omEi_8rl5\n",
            "To: /content/iris.zip\n",
            "\r  0% 0.00/573k [00:00<?, ?B/s]\r100% 573k/573k [00:00<00:00, 82.1MB/s]\n"
          ],
          "name": "stdout"
        }
      ]
    },
    {
      "cell_type": "code",
      "metadata": {
        "id": "9LKPLxbu2E-l",
        "colab": {
          "base_uri": "https://localhost:8080/"
        },
        "outputId": "841bbf0b-352b-4f7b-d8a5-985d435159ff"
      },
      "source": [
        "!unrar x /content/wine.rar"
      ],
      "execution_count": null,
      "outputs": [
        {
          "output_type": "stream",
          "text": [
            "\n",
            "UNRAR 5.50 freeware      Copyright (c) 1993-2017 Alexander Roshal\n",
            "\n",
            "\n",
            "Extracting from /content/wine.rar\n",
            "\n",
            "Creating    wine                                                      OK\n",
            "Creating    wine/1                                                    OK\n",
            "Extracting  wine/1/0.png                                                 \b\b\b\b  0%\b\b\b\b\b  OK \n",
            "Extracting  wine/1/1.png                                                 \b\b\b\b  1%\b\b\b\b\b  OK \n",
            "Extracting  wine/1/10.png                                                \b\b\b\b  1%\b\b\b\b\b  OK \n",
            "Extracting  wine/1/11.png                                                \b\b\b\b  2%\b\b\b\b\b  OK \n",
            "Extracting  wine/1/12.png                                                \b\b\b\b  2%\b\b\b\b\b  OK \n",
            "Extracting  wine/1/13.png                                                \b\b\b\b  3%\b\b\b\b\b  OK \n",
            "Extracting  wine/1/14.png                                                \b\b\b\b  3%\b\b\b\b\b  OK \n",
            "Extracting  wine/1/15.png                                                \b\b\b\b  4%\b\b\b\b\b  OK \n",
            "Extracting  wine/1/16.png                                                \b\b\b\b  4%\b\b\b\b\b  OK \n",
            "Extracting  wine/1/17.png                                                \b\b\b\b  5%\b\b\b\b\b  OK \n",
            "Extracting  wine/1/18.png                                                \b\b\b\b  5%\b\b\b\b\b  OK \n",
            "Extracting  wine/1/19.png                                                \b\b\b\b  6%\b\b\b\b\b  OK \n",
            "Extracting  wine/1/2.png                                                 \b\b\b\b  7%\b\b\b\b\b  OK \n",
            "Extracting  wine/1/20.png                                                \b\b\b\b  7%\b\b\b\b\b  OK \n",
            "Extracting  wine/1/21.png                                                \b\b\b\b  8%\b\b\b\b\b  OK \n",
            "Extracting  wine/1/22.png                                                \b\b\b\b  8%\b\b\b\b\b  OK \n",
            "Extracting  wine/1/23.png                                                \b\b\b\b  9%\b\b\b\b\b  OK \n",
            "Extracting  wine/1/24.png                                                \b\b\b\b  9%\b\b\b\b\b  OK \n",
            "Extracting  wine/1/25.png                                                \b\b\b\b 10%\b\b\b\b\b  OK \n",
            "Extracting  wine/1/26.png                                                \b\b\b\b 11%\b\b\b\b\b  OK \n",
            "Extracting  wine/1/27.png                                                \b\b\b\b 11%\b\b\b\b\b  OK \n",
            "Extracting  wine/1/28.png                                                \b\b\b\b 12%\b\b\b\b\b  OK \n",
            "Extracting  wine/1/29.png                                                \b\b\b\b 12%\b\b\b\b\b  OK \n",
            "Extracting  wine/1/3.png                                                 \b\b\b\b 13%\b\b\b\b\b  OK \n",
            "Extracting  wine/1/30.png                                                \b\b\b\b 13%\b\b\b\b\b  OK \n",
            "Extracting  wine/1/31.png                                                \b\b\b\b 14%\b\b\b\b\b  OK \n",
            "Extracting  wine/1/32.png                                                \b\b\b\b 15%\b\b\b\b\b  OK \n",
            "Extracting  wine/1/33.png                                                \b\b\b\b 15%\b\b\b\b\b  OK \n",
            "Extracting  wine/1/34.png                                                \b\b\b\b 16%\b\b\b\b\b  OK \n",
            "Extracting  wine/1/35.png                                                \b\b\b\b 16%\b\b\b\b\b  OK \n",
            "Extracting  wine/1/36.png                                                \b\b\b\b 17%\b\b\b\b\b  OK \n",
            "Extracting  wine/1/37.png                                                \b\b\b\b 17%\b\b\b\b\b  OK \n",
            "Extracting  wine/1/38.png                                                \b\b\b\b 18%\b\b\b\b\b  OK \n",
            "Extracting  wine/1/39.png                                                \b\b\b\b 18%\b\b\b\b\b  OK \n",
            "Extracting  wine/1/4.png                                                 \b\b\b\b 19%\b\b\b\b\b  OK \n",
            "Extracting  wine/1/40.png                                                \b\b\b\b 20%\b\b\b\b\b  OK \n",
            "Extracting  wine/1/41.png                                                \b\b\b\b 20%\b\b\b\b\b  OK \n",
            "Extracting  wine/1/42.png                                                \b\b\b\b 21%\b\b\b\b\b  OK \n",
            "Extracting  wine/1/43.png                                                \b\b\b\b 21%\b\b\b\b\b  OK \n",
            "Extracting  wine/1/44.png                                                \b\b\b\b 22%\b\b\b\b\b  OK \n",
            "Extracting  wine/1/45.png                                                \b\b\b\b 22%\b\b\b\b\b  OK \n",
            "Extracting  wine/1/46.png                                                \b\b\b\b 23%\b\b\b\b\b  OK \n",
            "Extracting  wine/1/47.png                                                \b\b\b\b 23%\b\b\b\b\b  OK \n",
            "Extracting  wine/1/48.png                                                \b\b\b\b 24%\b\b\b\b\b  OK \n",
            "Extracting  wine/1/49.png                                                \b\b\b\b 24%\b\b\b\b\b  OK \n",
            "Extracting  wine/1/5.png                                                 \b\b\b\b 25%\b\b\b\b\b  OK \n",
            "Extracting  wine/1/50.png                                                \b\b\b\b 26%\b\b\b\b\b  OK \n",
            "Extracting  wine/1/51.png                                                \b\b\b\b 26%\b\b\b\b\b  OK \n",
            "Extracting  wine/1/52.png                                                \b\b\b\b 27%\b\b\b\b\b  OK \n",
            "Extracting  wine/1/53.png                                                \b\b\b\b 27%\b\b\b\b\b  OK \n",
            "Extracting  wine/1/54.png                                                \b\b\b\b 28%\b\b\b\b\b  OK \n",
            "Extracting  wine/1/55.png                                                \b\b\b\b 28%\b\b\b\b\b  OK \n",
            "Extracting  wine/1/56.png                                                \b\b\b\b 29%\b\b\b\b\b  OK \n",
            "Extracting  wine/1/57.png                                                \b\b\b\b 29%\b\b\b\b\b  OK \n",
            "Extracting  wine/1/58.png                                                \b\b\b\b 30%\b\b\b\b\b  OK \n",
            "Extracting  wine/1/6.png                                                 \b\b\b\b 31%\b\b\b\b\b  OK \n",
            "Extracting  wine/1/7.png                                                 \b\b\b\b 31%\b\b\b\b\b  OK \n",
            "Extracting  wine/1/8.png                                                 \b\b\b\b 32%\b\b\b\b\b  OK \n",
            "Extracting  wine/1/9.png                                                 \b\b\b\b 32%\b\b\b\b\b  OK \n",
            "Creating    wine/2                                                    OK\n",
            "Extracting  wine/2/100.png                                               \b\b\b\b 33%\b\b\b\b\b  OK \n",
            "Extracting  wine/2/101.png                                               \b\b\b\b 33%\b\b\b\b\b  OK \n",
            "Extracting  wine/2/102.png                                               \b\b\b\b 34%\b\b\b\b\b  OK \n",
            "Extracting  wine/2/103.png                                               \b\b\b\b 35%\b\b\b\b\b  OK \n",
            "Extracting  wine/2/104.png                                               \b\b\b\b 35%\b\b\b\b\b  OK \n",
            "Extracting  wine/2/105.png                                               \b\b\b\b 36%\b\b\b\b\b  OK \n",
            "Extracting  wine/2/106.png                                               \b\b\b\b 36%\b\b\b\b\b  OK \n",
            "Extracting  wine/2/107.png                                               \b\b\b\b 37%\b\b\b\b\b  OK \n",
            "Extracting  wine/2/108.png                                               \b\b\b\b 37%\b\b\b\b\b  OK \n",
            "Extracting  wine/2/109.png                                               \b\b\b\b 38%\b\b\b\b\b  OK \n",
            "Extracting  wine/2/110.png                                               \b\b\b\b 39%\b\b\b\b\b  OK \n",
            "Extracting  wine/2/111.png                                               \b\b\b\b 39%\b\b\b\b\b  OK \n",
            "Extracting  wine/2/112.png                                               \b\b\b\b 40%\b\b\b\b\b  OK \n",
            "Extracting  wine/2/113.png                                               \b\b\b\b 40%\b\b\b\b\b  OK \n",
            "Extracting  wine/2/114.png                                               \b\b\b\b 41%\b\b\b\b\b  OK \n",
            "Extracting  wine/2/115.png                                               \b\b\b\b 41%\b\b\b\b\b  OK \n",
            "Extracting  wine/2/116.png                                               \b\b\b\b 42%\b\b\b\b\b  OK \n",
            "Extracting  wine/2/117.png                                               \b\b\b\b 42%\b\b\b\b\b  OK \n",
            "Extracting  wine/2/118.png                                               \b\b\b\b 43%\b\b\b\b\b  OK \n",
            "Extracting  wine/2/119.png                                               \b\b\b\b 43%\b\b\b\b\b  OK \n",
            "Extracting  wine/2/120.png                                               \b\b\b\b 44%\b\b\b\b\b  OK \n",
            "Extracting  wine/2/121.png                                               \b\b\b\b 45%\b\b\b\b\b  OK \n",
            "Extracting  wine/2/122.png                                               \b\b\b\b 45%\b\b\b\b\b  OK \n",
            "Extracting  wine/2/123.png                                               \b\b\b\b 46%\b\b\b\b\b  OK \n",
            "Extracting  wine/2/124.png                                               \b\b\b\b 46%\b\b\b\b\b  OK \n",
            "Extracting  wine/2/125.png                                               \b\b\b\b 47%\b\b\b\b\b  OK \n",
            "Extracting  wine/2/126.png                                               \b\b\b\b 47%\b\b\b\b\b  OK \n",
            "Extracting  wine/2/127.png                                               \b\b\b\b 48%\b\b\b\b\b  OK \n",
            "Extracting  wine/2/128.png                                               \b\b\b\b 49%\b\b\b\b\b  OK \n",
            "Extracting  wine/2/129.png                                               \b\b\b\b 49%\b\b\b\b\b  OK \n",
            "Extracting  wine/2/59.png                                                \b\b\b\b 50%\b\b\b\b\b  OK \n",
            "Extracting  wine/2/60.png                                                \b\b\b\b 50%\b\b\b\b\b  OK \n",
            "Extracting  wine/2/61.png                                                \b\b\b\b 51%\b\b\b\b\b  OK \n",
            "Extracting  wine/2/62.png                                                \b\b\b\b 51%\b\b\b\b\b  OK \n",
            "Extracting  wine/2/63.png                                                \b\b\b\b 52%\b\b\b\b\b  OK \n",
            "Extracting  wine/2/64.png                                                \b\b\b\b 52%\b\b\b\b\b  OK \n",
            "Extracting  wine/2/65.png                                                \b\b\b\b 53%\b\b\b\b\b  OK \n",
            "Extracting  wine/2/66.png                                                \b\b\b\b 53%\b\b\b\b\b  OK \n",
            "Extracting  wine/2/67.png                                                \b\b\b\b 54%\b\b\b\b\b  OK \n",
            "Extracting  wine/2/68.png                                                \b\b\b\b 55%\b\b\b\b\b  OK \n",
            "Extracting  wine/2/69.png                                                \b\b\b\b 55%\b\b\b\b\b  OK \n",
            "Extracting  wine/2/70.png                                                \b\b\b\b 56%\b\b\b\b\b  OK \n",
            "Extracting  wine/2/71.png                                                \b\b\b\b 56%\b\b\b\b\b  OK \n",
            "Extracting  wine/2/72.png                                                \b\b\b\b 57%\b\b\b\b\b  OK \n",
            "Extracting  wine/2/73.png                                                \b\b\b\b 57%\b\b\b\b\b  OK \n",
            "Extracting  wine/2/74.png                                                \b\b\b\b 58%\b\b\b\b\b  OK \n",
            "Extracting  wine/2/75.png                                                \b\b\b\b 58%\b\b\b\b\b  OK \n",
            "Extracting  wine/2/76.png                                                \b\b\b\b 59%\b\b\b\b\b  OK \n",
            "Extracting  wine/2/77.png                                                \b\b\b\b 60%\b\b\b\b\b  OK \n",
            "Extracting  wine/2/78.png                                                \b\b\b\b 60%\b\b\b\b\b  OK \n",
            "Extracting  wine/2/79.png                                                \b\b\b\b 61%\b\b\b\b\b  OK \n",
            "Extracting  wine/2/80.png                                                \b\b\b\b 61%\b\b\b\b\b  OK \n",
            "Extracting  wine/2/81.png                                                \b\b\b\b 62%\b\b\b\b\b  OK \n",
            "Extracting  wine/2/82.png                                                \b\b\b\b 62%\b\b\b\b\b  OK \n",
            "Extracting  wine/2/83.png                                                \b\b\b\b 63%\b\b\b\b\b  OK \n",
            "Extracting  wine/2/84.png                                                \b\b\b\b 63%\b\b\b\b\b  OK \n",
            "Extracting  wine/2/85.png                                                \b\b\b\b 64%\b\b\b\b\b  OK \n",
            "Extracting  wine/2/86.png                                                \b\b\b\b 65%\b\b\b\b\b  OK \n",
            "Extracting  wine/2/87.png                                                \b\b\b\b 65%\b\b\b\b\b  OK \n",
            "Extracting  wine/2/88.png                                                \b\b\b\b 66%\b\b\b\b\b  OK \n",
            "Extracting  wine/2/89.png                                                \b\b\b\b 66%\b\b\b\b\b  OK \n",
            "Extracting  wine/2/90.png                                                \b\b\b\b 67%\b\b\b\b\b  OK \n",
            "Extracting  wine/2/91.png                                                \b\b\b\b 67%\b\b\b\b\b  OK \n",
            "Extracting  wine/2/92.png                                                \b\b\b\b 68%\b\b\b\b\b  OK \n",
            "Extracting  wine/2/93.png                                                \b\b\b\b 68%\b\b\b\b\b  OK \n",
            "Extracting  wine/2/94.png                                                \b\b\b\b 69%\b\b\b\b\b  OK \n",
            "Extracting  wine/2/95.png                                                \b\b\b\b 70%\b\b\b\b\b  OK \n",
            "Extracting  wine/2/96.png                                                \b\b\b\b 70%\b\b\b\b\b  OK \n",
            "Extracting  wine/2/97.png                                                \b\b\b\b 71%\b\b\b\b\b  OK \n",
            "Extracting  wine/2/98.png                                                \b\b\b\b 71%\b\b\b\b\b  OK \n",
            "Extracting  wine/2/99.png                                                \b\b\b\b 72%\b\b\b\b\b  OK \n",
            "Creating    wine/3                                                    OK\n",
            "Extracting  wine/3/130.png                                               \b\b\b\b 72%\b\b\b\b\b  OK \n",
            "Extracting  wine/3/131.png                                               \b\b\b\b 73%\b\b\b\b\b  OK \n",
            "Extracting  wine/3/132.png                                               \b\b\b\b 73%\b\b\b\b\b  OK \n",
            "Extracting  wine/3/133.png                                               \b\b\b\b 74%\b\b\b\b\b  OK \n",
            "Extracting  wine/3/134.png                                               \b\b\b\b 74%\b\b\b\b\b  OK \n",
            "Extracting  wine/3/135.png                                               \b\b\b\b 75%\b\b\b\b\b  OK \n",
            "Extracting  wine/3/136.png                                               \b\b\b\b 76%\b\b\b\b\b  OK \n",
            "Extracting  wine/3/137.png                                               \b\b\b\b 76%\b\b\b\b\b  OK \n",
            "Extracting  wine/3/138.png                                               \b\b\b\b 77%\b\b\b\b\b  OK \n",
            "Extracting  wine/3/139.png                                               \b\b\b\b 77%\b\b\b\b\b  OK \n",
            "Extracting  wine/3/140.png                                               \b\b\b\b 78%\b\b\b\b\b  OK \n",
            "Extracting  wine/3/141.png                                               \b\b\b\b 78%\b\b\b\b\b  OK \n",
            "Extracting  wine/3/142.png                                               \b\b\b\b 79%\b\b\b\b\b  OK \n",
            "Extracting  wine/3/143.png                                               \b\b\b\b 80%\b\b\b\b\b  OK \n",
            "Extracting  wine/3/144.png                                               \b\b\b\b 80%\b\b\b\b\b  OK \n",
            "Extracting  wine/3/145.png                                               \b\b\b\b 81%\b\b\b\b\b  OK \n",
            "Extracting  wine/3/146.png                                               \b\b\b\b 81%\b\b\b\b\b  OK \n",
            "Extracting  wine/3/147.png                                               \b\b\b\b 82%\b\b\b\b\b  OK \n",
            "Extracting  wine/3/148.png                                               \b\b\b\b 82%\b\b\b\b\b  OK \n",
            "Extracting  wine/3/149.png                                               \b\b\b\b 83%\b\b\b\b\b  OK \n",
            "Extracting  wine/3/150.png                                               \b\b\b\b 83%\b\b\b\b\b  OK \n",
            "Extracting  wine/3/151.png                                               \b\b\b\b 84%\b\b\b\b\b  OK \n",
            "Extracting  wine/3/152.png                                               \b\b\b\b 85%\b\b\b\b\b  OK \n",
            "Extracting  wine/3/153.png                                               \b\b\b\b 85%\b\b\b\b\b  OK \n",
            "Extracting  wine/3/154.png                                               \b\b\b\b 86%\b\b\b\b\b  OK \n",
            "Extracting  wine/3/155.png                                               \b\b\b\b 86%\b\b\b\b\b  OK \n",
            "Extracting  wine/3/156.png                                               \b\b\b\b 87%\b\b\b\b\b  OK \n",
            "Extracting  wine/3/157.png                                               \b\b\b\b 87%\b\b\b\b\b  OK \n",
            "Extracting  wine/3/158.png                                               \b\b\b\b 88%\b\b\b\b\b  OK \n",
            "Extracting  wine/3/159.png                                               \b\b\b\b 88%\b\b\b\b\b  OK \n",
            "Extracting  wine/3/160.png                                               \b\b\b\b 89%\b\b\b\b\b  OK \n",
            "Extracting  wine/3/161.png                                               \b\b\b\b 90%\b\b\b\b\b  OK \n",
            "Extracting  wine/3/162.png                                               \b\b\b\b 90%\b\b\b\b\b  OK \n",
            "Extracting  wine/3/163.png                                               \b\b\b\b 91%\b\b\b\b\b  OK \n",
            "Extracting  wine/3/164.png                                               \b\b\b\b 91%\b\b\b\b\b  OK \n",
            "Extracting  wine/3/165.png                                               \b\b\b\b 92%\b\b\b\b\b  OK \n",
            "Extracting  wine/3/166.png                                               \b\b\b\b 93%\b\b\b\b\b  OK \n",
            "Extracting  wine/3/167.png                                               \b\b\b\b 93%\b\b\b\b\b  OK \n",
            "Extracting  wine/3/168.png                                               \b\b\b\b 94%\b\b\b\b\b  OK \n",
            "Extracting  wine/3/169.png                                               \b\b\b\b 94%\b\b\b\b\b  OK \n",
            "Extracting  wine/3/170.png                                               \b\b\b\b 95%\b\b\b\b\b  OK \n",
            "Extracting  wine/3/171.png                                               \b\b\b\b 95%\b\b\b\b\b  OK \n",
            "Extracting  wine/3/172.png                                               \b\b\b\b 96%\b\b\b\b\b  OK \n",
            "Extracting  wine/3/173.png                                               \b\b\b\b 96%\b\b\b\b\b  OK \n",
            "Extracting  wine/3/174.png                                               \b\b\b\b 97%\b\b\b\b\b  OK \n",
            "Extracting  wine/3/175.png                                               \b\b\b\b 98%\b\b\b\b\b  OK \n",
            "Extracting  wine/3/176.png                                               \b\b\b\b 98%\b\b\b\b\b  OK \n",
            "Extracting  wine/3/177.png                                               \b\b\b\b 99%\b\b\b\b\b  OK \n",
            "All OK\n"
          ],
          "name": "stdout"
        }
      ]
    },
    {
      "cell_type": "code",
      "metadata": {
        "id": "axcoPZimxBzS"
      },
      "source": [
        "#!unzip /content/HeartDiseasesdataset.zip"
      ],
      "execution_count": null,
      "outputs": []
    },
    {
      "cell_type": "code",
      "metadata": {
        "id": "gra_3QDkv9lA",
        "colab": {
          "base_uri": "https://localhost:8080/"
        },
        "outputId": "eec10b91-eb54-4ff5-9ec3-9bd6f48ce74c"
      },
      "source": [
        "!pip install split-folders"
      ],
      "execution_count": null,
      "outputs": [
        {
          "output_type": "stream",
          "text": [
            "Collecting split-folders\n",
            "  Downloading split_folders-0.4.3-py3-none-any.whl (7.4 kB)\n",
            "Installing collected packages: split-folders\n",
            "Successfully installed split-folders-0.4.3\n"
          ],
          "name": "stdout"
        }
      ]
    },
    {
      "cell_type": "code",
      "metadata": {
        "id": "SO2R8cuawAKf",
        "colab": {
          "base_uri": "https://localhost:8080/"
        },
        "outputId": "977d1cb1-e5fe-4d7e-b106-d8b7f63e57b8"
      },
      "source": [
        "import splitfolders  # or import split_folders\n",
        "splitfolders.ratio(\"/content/wine\", seed=1337, ratio=(.85,  .15), group_prefix=None) # default values"
      ],
      "execution_count": null,
      "outputs": [
        {
          "output_type": "stream",
          "text": [
            "Copying files: 178 files [00:00, 6142.82 files/s]\n"
          ],
          "name": "stderr"
        }
      ]
    },
    {
      "cell_type": "markdown",
      "metadata": {
        "id": "kdjaIJUDvx7N"
      },
      "source": [
        "###Import Libraries"
      ]
    },
    {
      "cell_type": "code",
      "metadata": {
        "id": "KO64taUXvxWd"
      },
      "source": [
        "\n",
        "from __future__ import print_function, division\n",
        "\n",
        "import torch\n",
        "import torch.nn as nn\n",
        "import torch.optim as optim\n",
        "from torch.optim import lr_scheduler\n",
        "import numpy as np\n",
        "import torchvision\n",
        "from torchvision import datasets, models, transforms\n",
        "import matplotlib.pyplot as plt\n",
        "import time\n",
        "import os\n",
        "import copy\n",
        "\n",
        "plt.ion()   # interactive mode"
      ],
      "execution_count": null,
      "outputs": []
    },
    {
      "cell_type": "code",
      "metadata": {
        "id": "PxIaSy2VhDel",
        "colab": {
          "base_uri": "https://localhost:8080/"
        },
        "outputId": "3c3f8ff6-4545-4026-9c93-09e0b44f4407"
      },
      "source": [
        "os.listdir(\"/content/output/val\")"
      ],
      "execution_count": null,
      "outputs": [
        {
          "output_type": "execute_result",
          "data": {
            "text/plain": [
              "['3', '1', '2']"
            ]
          },
          "metadata": {},
          "execution_count": 6
        }
      ]
    },
    {
      "cell_type": "markdown",
      "metadata": {
        "id": "46Fh2xjDwG99"
      },
      "source": [
        "###Dataloaders"
      ]
    },
    {
      "cell_type": "code",
      "metadata": {
        "id": "6_T2vh0AwJHG"
      },
      "source": [
        "# Data augmentation and normalization for training\n",
        "# Just normalization/content/content/HeartDiseasesdataset for validation\n",
        "data_transforms = {\n",
        "    'train': transforms.Compose([\n",
        "        transforms.Resize(128),\n",
        "        transforms.ToTensor(),\n",
        "        transforms.Normalize([0.485, 0.456, 0.406], [0.229, 0.224, 0.225])\n",
        "    ]),\n",
        "    'val': transforms.Compose([\n",
        "        transforms.Resize(128),\n",
        "        transforms.ToTensor(),\n",
        "        transforms.Normalize([0.485, 0.456, 0.406], [0.229, 0.224, 0.225])\n",
        "    ]),\n",
        "}\n",
        "\n",
        "data_dir = '/content/output/'\n",
        "image_datasets = {x: datasets.ImageFolder(os.path.join(data_dir, x),\n",
        "                                          data_transforms[x])\n",
        "                  for x in ['train', 'val']}\n",
        "dataloaders = {x: torch.utils.data.DataLoader(image_datasets[x], batch_size=16,\n",
        "                                             shuffle=True, num_workers=4)\n",
        "              for x in ['train', 'val']}\n",
        "dataset_sizes = {x: len(image_datasets[x]) for x in ['train', 'val']}\n",
        "class_names = image_datasets['train'].classes\n",
        "\n",
        "device = torch.device(\"cuda:0\" if torch.cuda.is_available() else \"cpu\")"
      ],
      "execution_count": null,
      "outputs": []
    },
    {
      "cell_type": "code",
      "metadata": {
        "id": "TbW3BnX3cZOD"
      },
      "source": [
        ""
      ],
      "execution_count": null,
      "outputs": []
    },
    {
      "cell_type": "code",
      "metadata": {
        "id": "tgPAfH7Ha7t-",
        "colab": {
          "base_uri": "https://localhost:8080/"
        },
        "outputId": "00026a95-d8e2-46c0-f185-e7949783459e"
      },
      "source": [
        "dataset_sizes, class_names, device"
      ],
      "execution_count": null,
      "outputs": [
        {
          "output_type": "execute_result",
          "data": {
            "text/plain": [
              "({'train': 150, 'val': 28}, ['1', '2', '3'], device(type='cpu'))"
            ]
          },
          "metadata": {},
          "execution_count": 8
        }
      ]
    },
    {
      "cell_type": "code",
      "metadata": {
        "id": "5fcG3H97wLwO",
        "colab": {
          "base_uri": "https://localhost:8080/",
          "height": 148
        },
        "outputId": "40971b82-6354-46ab-a597-da17382aaa4f"
      },
      "source": [
        "def imshow(inp, title=None):\n",
        "    \"\"\"Imshow for Tensor.\"\"\"\n",
        "    inp = inp.numpy().transpose((1, 2, 0))\n",
        "    mean = np.array([0.485, 0.456, 0.406])\n",
        "    std = np.array([0.229, 0.224, 0.225])\n",
        "    inp = std * inp + mean\n",
        "    inp = np.clip(inp, 0, 1)\n",
        "    plt.imshow(inp)\n",
        "    if title is not None:\n",
        "        plt.title(title)\n",
        "    plt.pause(0.001)  # pause a bit so that plots are updated\n",
        "\n",
        "\n",
        "# Get a batch of training data\n",
        "inputs, classes = next(iter(dataloaders['train']))\n",
        "\n",
        "# Make a grid from batch\n",
        "out = torchvision.utils.make_grid(inputs)\n",
        "\n",
        "imshow(out, title=[class_names[x] for x in classes])"
      ],
      "execution_count": null,
      "outputs": [
        {
          "output_type": "display_data",
          "data": {
            "image/png": "[encoded data removed]",
            "text/plain": [
              "<Figure size 432x288 with 1 Axes>"
            ]
          },
          "metadata": {
            "needs_background": "light"
          }
        }
      ]
    },
    {
      "cell_type": "markdown",
      "metadata": {
        "id": "OCPyP5KywPBJ"
      },
      "source": [
        "### Custom Functions"
      ]
    },
    {
      "cell_type": "code",
      "metadata": {
        "id": "BJy8mhm_d_D-"
      },
      "source": [
        "import time\n",
        "import numpy as np\n",
        "import pandas as pd\n",
        "import seaborn as sns\n",
        "import matplotlib.pyplot as plt\n",
        "from tqdm import tqdm\n",
        "\n",
        "from sklearn.metrics import accuracy_score\n",
        "from sklearn.metrics import confusion_matrix\n",
        "from sklearn.metrics import f1_score\n",
        "from sklearn.datasets import fetch_openml"
      ],
      "execution_count": null,
      "outputs": []
    },
    {
      "cell_type": "code",
      "metadata": {
        "id": "bLJP8iupdKab"
      },
      "source": [
        "def train_simple_network_with_input_reshape(model, loss_func, train_loader, val_loader=None, score_funcs=None, \n",
        "                                            epochs=25, device=\"cpu\", checkpoint_file=None):\n",
        "    \"\"\"Train simple neural networks\n",
        "    \n",
        "    Keyword arguments:\n",
        "    model -- the PyTorch model / \"Module\" to train\n",
        "    loss_func -- the loss function that takes in batch in two arguments, the model outputs and the labels, and returns a score\n",
        "    train_loader -- PyTorch DataLoader object that returns tuples of (input, label) pairs. \n",
        "    val_loader -- Optional PyTorch DataLoader to evaluate on after every epoch\n",
        "    score_funcs -- A dictionary of scoring functions to use to evalue the performance of the model\n",
        "    epochs -- the number of training epochs to perform\n",
        "    device -- the compute lodation to perform training\n",
        "    \n",
        "    Here used the method provided in lecture only added code to flatten the inputs before passing to linear model\n",
        "    \"\"\"\n",
        "    to_track = [\"epoch\", \"total time\", \"train loss\"]\n",
        "    if val_loader is not None:\n",
        "        to_track.append(\"val loss\")\n",
        "    for eval_score in score_funcs:\n",
        "        to_track.append(\"train \" + eval_score )\n",
        "        if val_loader is not None:\n",
        "            to_track.append(\"val \" + eval_score )\n",
        "        \n",
        "    total_train_time = 0 #How long have we spent in the training loop? \n",
        "    results = {}\n",
        "    #Initialize every item with an empty list\n",
        "    for item in to_track:\n",
        "        results[item] = []\n",
        "    \n",
        "    #SGD is Stochastic Gradient Decent.\n",
        "    optimizer = torch.optim.SGD(model.parameters(), lr=0.001)\n",
        "\n",
        "    #Place the model on the correct compute resource (CPU or GPU)\n",
        "    model.to(device)\n",
        "    for epoch in tqdm(range(epochs), desc=\"Epoch\"):\n",
        "    \n",
        "        model = model.train()#Put our model in training mode\n",
        "        running_loss = 0.0\n",
        "        \n",
        "        y_true = []\n",
        "        y_pred = []\n",
        "\n",
        "        start = time.time()\n",
        "        for inputs, labels in tqdm(train_loader, desc=\"Train Batch\", leave=False):\n",
        "      \n",
        "            #Move the batch to the device we are using. \n",
        "            inputs = inputs.to(device)\n",
        "            labels = labels.to(device)\n",
        "            \n",
        "            batch_size = inputs.shape[0]\n",
        "\n",
        "            # PyTorch stores gradients in a mutable data structure. So we need to set it to a clean state before we use it. \n",
        "            #Otherwise, it will have old information from a previous iteration\n",
        "            optimizer.zero_grad()\n",
        "\n",
        "            #flatten the input to fit in linear model\n",
        "            y_hat = model(inputs) #this just computed f_Θ(x(i))#pass in a flattened view of inputs\n",
        "\n",
        "            # Compute loss.\n",
        "            loss = loss_func(y_hat, labels)\n",
        "\n",
        "            loss.backward()# ∇_Θ just got computed by this one call!\n",
        "\n",
        "            #Now we just need to update all the parameters! \n",
        "            optimizer.step()# Θ_{k+1} = Θ_k − η * ∇_Θ ℓ(y_hat, y)\n",
        "\n",
        "            #Now we are just grabbing some information we would like to have\n",
        "            running_loss += loss.item() * inputs.size(0)\n",
        "            \n",
        "            #moving labels & predictions back to CPU for computing / storing predictions\n",
        "            labels = labels.detach().cpu().numpy()\n",
        "            y_hat = y_hat.detach().cpu().numpy()\n",
        "            for i in range(batch_size):\n",
        "                y_true.append(labels[i])\n",
        "                y_pred.append(y_hat[i,:])\n",
        "        #end training epoch\n",
        "        end = time.time()\n",
        "        total_train_time += (end-start)\n",
        "        \n",
        "        results[\"epoch\"].append( epoch )\n",
        "        results[\"total time\"].append( total_train_time )\n",
        "        results[\"train loss\"].append( running_loss )\n",
        "        \n",
        "        y_pred = np.asarray(y_pred)\n",
        "        \n",
        "        if y_pred.shape[1] > 1: #We have a classification problem, convert to labels\n",
        "            y_pred = np.argmax(y_pred, axis=1)\n",
        "            \n",
        "        for name, score_func in score_funcs.items():\n",
        "            results[\"train \" + name].append( score_func(y_true, y_pred) )\n",
        "      \n",
        "        if val_loader is None:\n",
        "            pass\n",
        "        else:#Lets find out validation performance as we go!\n",
        "            model = model.eval() #Set the model to \"evaluation\" mode, b/c we don't want to make any updates!\n",
        "\n",
        "            y_true = []\n",
        "            y_pred = []\n",
        "            \n",
        "            running_loss = 0.0\n",
        "\n",
        "            for inputs, labels in val_loader:\n",
        "        \n",
        "                #Move the batch to the device we are using. \n",
        "                inputs = inputs.to(device)\n",
        "                labels = labels.to(device)\n",
        "\n",
        "                #flatten the input to fit in linear model\n",
        "                y_hat = model(inputs) #pass in a flattened view of inputs\n",
        "            \n",
        "                loss = loss_func(y_hat, labels)\n",
        "                \n",
        "                #Now we are just grabbing some information we would like to have\n",
        "                running_loss += loss.item() * inputs.size(0)\n",
        "\n",
        "                #moving labels & predictions back to CPU for computing / storing predictions\n",
        "                labels = labels.detach().cpu().numpy()\n",
        "                y_hat = y_hat.detach().cpu().numpy()\n",
        "                for i in range(batch_size):\n",
        "                    y_true.append(labels[i])\n",
        "                    y_pred.append(y_hat[i,:])\n",
        "                        \n",
        "            results[\"val loss\"].append( running_loss )\n",
        "\n",
        "            y_pred = np.asarray(y_pred)\n",
        "\n",
        "            if y_pred.shape[1] > 1: #We have a classification problem, convert to labels\n",
        "                y_pred = np.argmax(y_pred, axis=1)\n",
        "\n",
        "            for name, score_func in score_funcs.items():\n",
        "                results[\"val \" + name].append( score_func(y_true, y_pred) )\n",
        "                \n",
        "        if checkpoint_file is not None:\n",
        "            torch.save({\n",
        "                'epoch': epoch,\n",
        "                'c': model.state_dict(),\n",
        "                'optimizer_state_dict': optimizer.state_dict(),\n",
        "                'results' : results\n",
        "                }, checkpoint_file)\n",
        "\n",
        "    return pd.DataFrame.from_dict(results)"
      ],
      "execution_count": null,
      "outputs": []
    },
    {
      "cell_type": "code",
      "metadata": {
        "id": "yWYTk7mrwRuq"
      },
      "source": [
        "def train_model(model, criterion, optimizer, scheduler, num_epochs=25):\n",
        "    since = time.time()\n",
        "\n",
        "    best_model_wts = copy.deepcopy(model.state_dict())\n",
        "    best_acc = 0.0\n",
        "\n",
        "    res_dict = {}\n",
        "    epoch_loss_list = []\n",
        "    epoch_acc_list = []\n",
        "\n",
        "    for epoch in range(num_epochs):\n",
        "        print('Epoch {}/{}'.format(epoch, num_epochs - 1))\n",
        "        print('-' * 10)\n",
        "\n",
        "        # Each epoch has a training and validation phase\n",
        "        for phase in ['train', 'val']:\n",
        "            if phase == 'train':\n",
        "                model.train()  # Set model to training mode\n",
        "            else:\n",
        "                model.eval()   # Set model to evaluate mode\n",
        "\n",
        "            running_loss = 0.0\n",
        "            running_corrects = 0\n",
        "\n",
        "            # Iterate over data.\n",
        "            for inputs, labels in dataloaders[phase]:\n",
        "                inputs = inputs.to(device)\n",
        "                labels = labels.to(device)\n",
        "\n",
        "                # zero the parameter gradients\n",
        "                optimizer.zero_grad()\n",
        "\n",
        "                # forward\n",
        "                # track history if only in train\n",
        "                with torch.set_grad_enabled(phase == 'train'):\n",
        "                    outputs = model(inputs)\n",
        "                    _, preds = torch.max(outputs, 1)\n",
        "                    loss = criterion(outputs, labels)\n",
        "\n",
        "                    # backward + optimize only if in training phase\n",
        "                    if phase == 'train':\n",
        "                        loss.backward()\n",
        "                        optimizer.step()\n",
        "\n",
        "                # statistics\n",
        "                running_loss += loss.item() * inputs.size(0)\n",
        "                running_corrects += torch.sum(preds == labels.data)\n",
        "            if phase == 'train':\n",
        "                scheduler.step()\n",
        "\n",
        "            epoch_loss = running_loss / dataset_sizes[phase]\n",
        "            epoch_acc = running_corrects.double() / dataset_sizes[phase]\n",
        "\n",
        "            epoch_loss_list.append(epoch_loss)\n",
        "            epoch_acc_list.append(epoch_acc)\n",
        "\n",
        "            print('{} Loss: {:.4f} Acc: {:.4f}'.format(\n",
        "                phase, epoch_loss, epoch_acc))\n",
        "            \n",
        "            res_dict[phase] = epoch_acc_list\n",
        "            \n",
        "\n",
        "\n",
        "            # deep copy the model\n",
        "            if phase == 'val' and epoch_acc > best_acc:\n",
        "                best_acc = epoch_acc\n",
        "                best_model_wts = copy.deepcopy(model.state_dict())\n",
        "\n",
        "        print()\n",
        "\n",
        "    time_elapsed = time.time() - since\n",
        "    print('Training complete in {:.0f}m {:.0f}s'.format(\n",
        "        time_elapsed // 60, time_elapsed % 60))\n",
        "    print('Best val Acc: {:4f}'.format(best_acc))\n",
        "\n",
        "    # load best model weights\n",
        "    model.load_state_dict(best_model_wts)\n",
        "    return model, epoch_loss_list, epoch_acc_list,res_dict"
      ],
      "execution_count": null,
      "outputs": []
    },
    {
      "cell_type": "code",
      "metadata": {
        "id": "ZwmRV3n6wVeU"
      },
      "source": [
        "def visualize_model(model, num_images=6):\n",
        "    was_training = model.training\n",
        "    model.eval()\n",
        "    images_so_far = 0\n",
        "    fig = plt.figure()\n",
        "\n",
        "    with torch.no_grad():\n",
        "        for i, (inputs, labels) in enumerate(dataloaders['val']):\n",
        "            inputs = inputs.to(device)\n",
        "            labels = labels.to(device)\n",
        "\n",
        "            outputs = model(inputs)\n",
        "            _, preds = torch.max(outputs, 1)\n",
        "\n",
        "            for j in range(inputs.size()[0]):\n",
        "                images_so_far += 1\n",
        "                ax = plt.subplot(num_images//2, 2, images_so_far)\n",
        "                ax.axis('off')\n",
        "                ax.set_title('predicted: {}'.format(class_names[preds[j]]))\n",
        "                imshow(inputs.cpu().data[j])\n",
        "\n",
        "                if images_so_far == num_images:\n",
        "                    model.train(mode=was_training)\n",
        "                    return\n",
        "        model.train(mode=was_training)"
      ],
      "execution_count": null,
      "outputs": []
    },
    {
      "cell_type": "markdown",
      "metadata": {
        "id": "eyNiDlRxwXfn"
      },
      "source": [
        "###Train & Validations"
      ]
    },
    {
      "cell_type": "code",
      "metadata": {
        "id": "r_KWgE6IwaLU"
      },
      "source": [
        "model_ft = models.resnet18(pretrained=True)\n",
        "num_ftrs = model_ft.fc.in_features\n",
        "# Here the size of each output sample is set to 2.\n",
        "# Alternatively, it can be generalized to nn.Linear(num_ftrs, len(class_names)).\n",
        "model_ft.fc = nn.Linear(num_ftrs, len(class_names))\n",
        "\n",
        "model_ft = model_ft.to(device)\n",
        "\n",
        "criterion = nn.CrossEntropyLoss()\n",
        "\n",
        "# Observe that all parameters are being optimized\n",
        "#optimizer_ft = optim.SGD(model_ft.parameters(), lr=0.001, momentum=0.3)\n",
        "optimizer_ft = optim.Adam(model_ft.parameters(), lr=0.001)\n",
        "\n",
        "# Decay LR by a factor of 0.1 every 7 epochs\n",
        "exp_lr_scheduler = lr_scheduler.StepLR(optimizer_ft, step_size=5, gamma=0.1)"
      ],
      "execution_count": null,
      "outputs": []
    },
    {
      "cell_type": "code",
      "metadata": {
        "colab": {
          "base_uri": "https://localhost:8080/"
        },
        "id": "OE0eKD5nwdZI",
        "outputId": "4522562b-8eda-4210-ef13-efdbfaa5bad2"
      },
      "source": [
        "model_ft, ep_loss, ep_acc, res_dict = train_model(model_ft, criterion, optimizer_ft, exp_lr_scheduler,\n",
        "                       num_epochs=20)"
      ],
      "execution_count": null,
      "outputs": [
        {
          "output_type": "stream",
          "text": [
            "Epoch 0/19\n",
            "----------\n",
            "train Loss: 0.8667 Acc: 0.7067\n",
            "val Loss: 4.3299 Acc: 0.5357\n",
            "\n",
            "Epoch 1/19\n",
            "----------\n",
            "train Loss: 0.1982 Acc: 0.9333\n",
            "val Loss: 1.5541 Acc: 0.7857\n",
            "\n",
            "Epoch 2/19\n",
            "----------\n",
            "train Loss: 0.1841 Acc: 0.9467\n",
            "val Loss: 0.4143 Acc: 0.8214\n",
            "\n",
            "Epoch 3/19\n",
            "----------\n",
            "train Loss: 0.1212 Acc: 0.9667\n",
            "val Loss: 0.5458 Acc: 0.8571\n",
            "\n",
            "Epoch 4/19\n",
            "----------\n",
            "train Loss: 0.1060 Acc: 0.9733\n",
            "val Loss: 0.5316 Acc: 0.8214\n",
            "\n",
            "Epoch 5/19\n",
            "----------\n",
            "train Loss: 0.0128 Acc: 1.0000\n",
            "val Loss: 0.3734 Acc: 0.8929\n",
            "\n",
            "Epoch 6/19\n",
            "----------\n",
            "train Loss: 0.0259 Acc: 0.9933\n",
            "val Loss: 0.3226 Acc: 0.8929\n",
            "\n",
            "Epoch 7/19\n",
            "----------\n",
            "train Loss: 0.0137 Acc: 1.0000\n",
            "val Loss: 0.2802 Acc: 0.9643\n",
            "\n",
            "Epoch 8/19\n",
            "----------\n",
            "train Loss: 0.0201 Acc: 1.0000\n",
            "val Loss: 0.3168 Acc: 0.8929\n",
            "\n",
            "Epoch 9/19\n",
            "----------\n",
            "train Loss: 0.0127 Acc: 0.9933\n",
            "val Loss: 0.2577 Acc: 0.9643\n",
            "\n",
            "Epoch 10/19\n",
            "----------\n",
            "train Loss: 0.0371 Acc: 0.9933\n",
            "val Loss: 0.3009 Acc: 0.8929\n",
            "\n",
            "Epoch 11/19\n",
            "----------\n",
            "train Loss: 0.0214 Acc: 1.0000\n",
            "val Loss: 0.2708 Acc: 0.9286\n",
            "\n",
            "Epoch 12/19\n",
            "----------\n",
            "train Loss: 0.0064 Acc: 1.0000\n",
            "val Loss: 0.3106 Acc: 0.8929\n",
            "\n",
            "Epoch 13/19\n",
            "----------\n",
            "train Loss: 0.0127 Acc: 0.9933\n",
            "val Loss: 0.3444 Acc: 0.8929\n",
            "\n",
            "Epoch 14/19\n",
            "----------\n",
            "train Loss: 0.0037 Acc: 1.0000\n",
            "val Loss: 0.2775 Acc: 0.8929\n",
            "\n",
            "Epoch 15/19\n",
            "----------\n",
            "train Loss: 0.0300 Acc: 0.9933\n",
            "val Loss: 0.3220 Acc: 0.8929\n",
            "\n",
            "Epoch 16/19\n",
            "----------\n",
            "train Loss: 0.0049 Acc: 1.0000\n",
            "val Loss: 0.2691 Acc: 0.8929\n",
            "\n",
            "Epoch 17/19\n",
            "----------\n",
            "train Loss: 0.0061 Acc: 1.0000\n",
            "val Loss: 0.2681 Acc: 0.8929\n",
            "\n",
            "Epoch 18/19\n",
            "----------\n",
            "train Loss: 0.0067 Acc: 1.0000\n",
            "val Loss: 0.2606 Acc: 0.9286\n",
            "\n",
            "Epoch 19/19\n",
            "----------\n",
            "train Loss: 0.0054 Acc: 1.0000\n",
            "val Loss: 0.2546 Acc: 0.9286\n",
            "\n",
            "Training complete in 1m 26s\n",
            "Best val Acc: 0.964286\n"
          ],
          "name": "stdout"
        }
      ]
    },
    {
      "cell_type": "code",
      "metadata": {
        "id": "SwIMkuK-lPkn"
      },
      "source": [
        "torch.save(model_ft, \"model_resnet_wine.pth\")\n",
        "model_ft = torch.load(\"/content/model_resnet_wine.pth\")\n"
      ],
      "execution_count": null,
      "outputs": []
    },
    {
      "cell_type": "code",
      "metadata": {
        "colab": {
          "base_uri": "https://localhost:8080/",
          "height": 704
        },
        "id": "-WOwr6GZprud",
        "outputId": "942cc6d9-f617-43e2-e265-015585f2da79"
      },
      "source": [
        "nb_classes = len(class_names)\n",
        "\n",
        "confusion_matrix = torch.zeros(nb_classes, nb_classes)\n",
        "with torch.no_grad():\n",
        "    for i, (inputs, classes) in enumerate(dataloaders['val']):\n",
        "        inputs = inputs.to(device)\n",
        "        classes = classes.to(device)\n",
        "        outputs = model_ft(inputs)\n",
        "        _, preds = torch.max(outputs, 1)\n",
        "        for t, p in zip(classes.view(-1), preds.view(-1)):\n",
        "                confusion_matrix[t.long(), p.long()] += 1\n",
        "\n",
        "print(confusion_matrix)\n",
        "\n",
        "print(confusion_matrix.diag()/confusion_matrix.sum(1))\n",
        "\n",
        "plt.figure(figsize=(15,10))\n",
        "\n",
        "# class_names = ['0','1']\n",
        "df_cm = pd.DataFrame(confusion_matrix, index=class_names, columns=class_names).astype(int)\n",
        "heatmap = sns.heatmap(df_cm, annot=True, fmt=\"d\")\n",
        "\n",
        "heatmap.yaxis.set_ticklabels(heatmap.yaxis.get_ticklabels(), rotation=0, ha='right',fontsize=15)\n",
        "heatmap.xaxis.set_ticklabels(heatmap.xaxis.get_ticklabels(), rotation=45, ha='right',fontsize=15)\n",
        "plt.ylabel('True label')\n",
        "plt.xlabel('Predicted label')"
      ],
      "execution_count": null,
      "outputs": [
        {
          "output_type": "stream",
          "text": [
            "tensor([[ 9.,  0.,  0.],\n",
            "        [ 1., 10.,  0.],\n",
            "        [ 0.,  0.,  8.]])\n",
            "tensor([1.0000, 0.9091, 1.0000])\n"
          ],
          "name": "stdout"
        },
        {
          "output_type": "execute_result",
          "data": {
            "text/plain": [
              "Text(0.5, 69.0, 'Predicted label')"
            ]
          },
          "metadata": {},
          "execution_count": 19
        },
        {
          "output_type": "display_data",
          "data": {
            "image/png": "[encoded data removed]",
            "text/plain": [
              "<Figure size 1080x720 with 2 Axes>"
            ]
          },
          "metadata": {
            "needs_background": "light"
          }
        }
      ]
    },
    {
      "cell_type": "code",
      "metadata": {
        "colab": {
          "base_uri": "https://localhost:8080/",
          "height": 67,
          "referenced_widgets": [
            "ee17ac24deb940879764dd0cdbb374ad",
            "978a6a7909104347a10d2d4716389032",
            "9a3a03a6175a446d8a281316d162e1e7",
            "bf017543bfb5406c9dce2dbdf42efeb2",
            "11e562b6dd344074a812862c7266c8a3",
            "fa835bcbe1ae4a938e288b84d5ea31a9",
            "67de32c2c5f248509f0149dad831d015",
            "85eabed2377c4405bf528e1ebdf695ba",
            "3c77f41976934e40b59bf6eef09a9f31",
            "17a814bee89a4f79a0521b6dd2a92b65",
            "eb2f31a5cf4b45ebac2b32fa5910b605"
          ]
        },
        "id": "0bCkWlkroVuM",
        "outputId": "4f99ddd1-5d72-49a0-a00e-b00e5c3d6360"
      },
      "source": [
        "model_ft = models.googlenet(pretrained=True)\n",
        "num_ftrs = model_ft.fc.in_features\n",
        "# Here the size of each output sample is set to 2.\n",
        "# Alternatively, it can be generalized to nn.Linear(num_ftrs, len(class_names)).\n",
        "model_ft.fc = nn.Linear(num_ftrs, len(class_names))\n",
        "\n",
        "model_ft = model_ft.to(device)\n",
        "\n",
        "criterion = nn.CrossEntropyLoss()\n",
        "\n",
        "# Observe that all parameters are being optimized\n",
        "#optimizer_ft = optim.SGD(model_ft.parameters(), lr=0.001, momentum=0.3)\n",
        "optimizer_ft = optim.Adam(model_ft.parameters(), lr=0.001)\n",
        "\n",
        "# Decay LR by a factor of 0.1 every 7 epochs\n",
        "exp_lr_scheduler = lr_scheduler.StepLR(optimizer_ft, step_size=5, gamma=0.1)"
      ],
      "execution_count": null,
      "outputs": [
        {
          "output_type": "stream",
          "text": [
            "Downloading: \"https://download.pytorch.org/models/googlenet-1378be20.pth\" to /root/.cache/torch/hub/checkpoints/googlenet-1378be20.pth\n"
          ],
          "name": "stderr"
        },
        {
          "output_type": "display_data",
          "data": {
            "application/vnd.jupyter.widget-view+json": {
              "model_id": "ee17ac24deb940879764dd0cdbb374ad",
              "version_minor": 0,
              "version_major": 2
            },
            "text/plain": [
              "  0%|          | 0.00/49.7M [00:00<?, ?B/s]"
            ]
          },
          "metadata": {}
        }
      ]
    },
    {
      "cell_type": "code",
      "metadata": {
        "colab": {
          "base_uri": "https://localhost:8080/"
        },
        "id": "-svsvpqdoWNs",
        "outputId": "adb02b2e-cd5f-4a06-cbbd-3dac0e07b183"
      },
      "source": [
        "model_ft, ep_loss, ep_acc, res_dict = train_model(model_ft, criterion, optimizer_ft, exp_lr_scheduler,\n",
        "                       num_epochs=20)"
      ],
      "execution_count": null,
      "outputs": [
        {
          "output_type": "stream",
          "text": [
            "Epoch 0/19\n",
            "----------\n",
            "train Loss: 0.7726 Acc: 0.6467\n",
            "val Loss: 0.8188 Acc: 0.6786\n",
            "\n",
            "Epoch 1/19\n",
            "----------\n",
            "train Loss: 0.3767 Acc: 0.9000\n",
            "val Loss: 0.8531 Acc: 0.7143\n",
            "\n",
            "Epoch 2/19\n",
            "----------\n",
            "train Loss: 0.1983 Acc: 0.9467\n",
            "val Loss: 0.4046 Acc: 0.8214\n",
            "\n",
            "Epoch 3/19\n",
            "----------\n",
            "train Loss: 0.1402 Acc: 0.9467\n",
            "val Loss: 0.3419 Acc: 0.9286\n",
            "\n",
            "Epoch 4/19\n",
            "----------\n",
            "train Loss: 0.1036 Acc: 0.9800\n",
            "val Loss: 0.1622 Acc: 0.9286\n",
            "\n",
            "Epoch 5/19\n",
            "----------\n",
            "train Loss: 0.1630 Acc: 0.9467\n",
            "val Loss: 0.1918 Acc: 0.9286\n",
            "\n",
            "Epoch 6/19\n",
            "----------\n",
            "train Loss: 0.0576 Acc: 0.9800\n",
            "val Loss: 0.2118 Acc: 0.9286\n",
            "\n",
            "Epoch 7/19\n",
            "----------\n",
            "train Loss: 0.0273 Acc: 0.9933\n",
            "val Loss: 0.1624 Acc: 0.9286\n",
            "\n",
            "Epoch 8/19\n",
            "----------\n",
            "train Loss: 0.0252 Acc: 1.0000\n",
            "val Loss: 0.1487 Acc: 0.9286\n",
            "\n",
            "Epoch 9/19\n",
            "----------\n",
            "train Loss: 0.0262 Acc: 0.9933\n",
            "val Loss: 0.1549 Acc: 0.9286\n",
            "\n",
            "Epoch 10/19\n",
            "----------\n",
            "train Loss: 0.0172 Acc: 1.0000\n",
            "val Loss: 0.1547 Acc: 0.9286\n",
            "\n",
            "Epoch 11/19\n",
            "----------\n",
            "train Loss: 0.0199 Acc: 1.0000\n",
            "val Loss: 0.1528 Acc: 0.9286\n",
            "\n",
            "Epoch 12/19\n",
            "----------\n",
            "train Loss: 0.0237 Acc: 1.0000\n",
            "val Loss: 0.1424 Acc: 0.9286\n",
            "\n",
            "Epoch 13/19\n",
            "----------\n",
            "train Loss: 0.0150 Acc: 1.0000\n",
            "val Loss: 0.1493 Acc: 0.9286\n",
            "\n",
            "Epoch 14/19\n",
            "----------\n",
            "train Loss: 0.0240 Acc: 0.9933\n",
            "val Loss: 0.1727 Acc: 0.9286\n",
            "\n",
            "Epoch 15/19\n",
            "----------\n",
            "train Loss: 0.0234 Acc: 1.0000\n",
            "val Loss: 0.1488 Acc: 0.9286\n",
            "\n",
            "Epoch 16/19\n",
            "----------\n",
            "train Loss: 0.0114 Acc: 1.0000\n",
            "val Loss: 0.1424 Acc: 0.9286\n",
            "\n",
            "Epoch 17/19\n",
            "----------\n",
            "train Loss: 0.0611 Acc: 0.9800\n",
            "val Loss: 0.1438 Acc: 0.9286\n",
            "\n",
            "Epoch 18/19\n",
            "----------\n",
            "train Loss: 0.0238 Acc: 1.0000\n",
            "val Loss: 0.1399 Acc: 0.9286\n",
            "\n",
            "Epoch 19/19\n",
            "----------\n",
            "train Loss: 0.0177 Acc: 1.0000\n",
            "val Loss: 0.1316 Acc: 0.9286\n",
            "\n",
            "Training complete in 2m 28s\n",
            "Best val Acc: 0.928571\n"
          ],
          "name": "stdout"
        }
      ]
    },
    {
      "cell_type": "code",
      "metadata": {
        "id": "kL1S5wPLpo5h"
      },
      "source": [
        ""
      ],
      "execution_count": null,
      "outputs": []
    },
    {
      "cell_type": "code",
      "metadata": {
        "id": "xxQn8R2soWVc"
      },
      "source": [
        "torch.save(model_ft, \"model_googlenet_wine.pth\")\n",
        "model_ft = torch.load(\"/content/model_googlenet_wine.pth\")\n"
      ],
      "execution_count": null,
      "outputs": []
    },
    {
      "cell_type": "code",
      "metadata": {
        "id": "RFxu-qrmpAQk",
        "colab": {
          "base_uri": "https://localhost:8080/",
          "height": 704
        },
        "outputId": "e02ce716-a001-413e-c91d-e6b6c17c36eb"
      },
      "source": [
        "nb_classes = len(class_names)\n",
        "\n",
        "confusion_matrix = torch.zeros(nb_classes, nb_classes)\n",
        "with torch.no_grad():\n",
        "    for i, (inputs, classes) in enumerate(dataloaders['val']):\n",
        "        inputs = inputs.to(device)\n",
        "        classes = classes.to(device)\n",
        "        outputs = model_ft(inputs)\n",
        "        _, preds = torch.max(outputs, 1)\n",
        "        for t, p in zip(classes.view(-1), preds.view(-1)):\n",
        "                confusion_matrix[t.long(), p.long()] += 1\n",
        "\n",
        "print(confusion_matrix)\n",
        "\n",
        "print(confusion_matrix.diag()/confusion_matrix.sum(1))\n",
        "\n",
        "plt.figure(figsize=(15,10))\n",
        "\n",
        "# class_names = ['0','1']\n",
        "df_cm = pd.DataFrame(confusion_matrix, index=class_names, columns=class_names).astype(int)\n",
        "heatmap = sns.heatmap(df_cm, annot=True, fmt=\"d\")\n",
        "\n",
        "heatmap.yaxis.set_ticklabels(heatmap.yaxis.get_ticklabels(), rotation=0, ha='right',fontsize=15)\n",
        "heatmap.xaxis.set_ticklabels(heatmap.xaxis.get_ticklabels(), rotation=45, ha='right',fontsize=15)\n",
        "plt.ylabel('True label')\n",
        "plt.xlabel('Predicted label')"
      ],
      "execution_count": null,
      "outputs": [
        {
          "output_type": "stream",
          "text": [
            "tensor([[9., 0., 0.],\n",
            "        [1., 9., 1.],\n",
            "        [0., 0., 8.]])\n",
            "tensor([1.0000, 0.8182, 1.0000])\n"
          ],
          "name": "stdout"
        },
        {
          "output_type": "execute_result",
          "data": {
            "text/plain": [
              "Text(0.5, 69.0, 'Predicted label')"
            ]
          },
          "metadata": {},
          "execution_count": 23
        },
        {
          "output_type": "display_data",
          "data": {
            "image/png": "[encoded data removed]",
            "text/plain": [
              "<Figure size 1080x720 with 2 Axes>"
            ]
          },
          "metadata": {
            "needs_background": "light"
          }
        }
      ]
    },
    {
      "cell_type": "code",
      "metadata": {
        "id": "fuTLHIeooWcI"
      },
      "source": [
        "model_ft = models.densenet121(pretrained=True)\n",
        "#num_ftrs = model_ft.fc.in_features\n",
        "# Here the size of each output sample is set to 2.\n",
        "# Alternatively, it can be generalized to nn.Linear(num_ftrs, len(class_names)).\n",
        "model_ft.fc = nn.Linear(num_ftrs, len(class_names))\n",
        "\n",
        "model_ft = model_ft.to(device)\n",
        "\n",
        "criterion = nn.CrossEntropyLoss()\n",
        "\n",
        "# Observe that all parameters are being optimized\n",
        "#optimizer_ft = optim.SGD(model_ft.parameters(), lr=0.001, momentum=0.3)\n",
        "optimizer_ft = optim.Adam(model_ft.parameters(), lr=0.001)\n",
        "\n",
        "# Decay LR by a factor of 0.1 every 7 epochs\n",
        "exp_lr_scheduler = lr_scheduler.StepLR(optimizer_ft, step_size=5, gamma=0.1)"
      ],
      "execution_count": null,
      "outputs": []
    },
    {
      "cell_type": "code",
      "metadata": {
        "id": "l3BwmspFofmh",
        "colab": {
          "base_uri": "https://localhost:8080/"
        },
        "outputId": "87db2672-701b-425c-ea81-09d485185677"
      },
      "source": [
        "model_ft, ep_loss, ep_acc, res_dict = train_model(model_ft, criterion, optimizer_ft, exp_lr_scheduler,\n",
        "                       num_epochs=20)"
      ],
      "execution_count": null,
      "outputs": [
        {
          "output_type": "stream",
          "text": [
            "Epoch 0/19\n",
            "----------\n",
            "train Loss: 3.2532 Acc: 0.5600\n",
            "val Loss: 0.4478 Acc: 0.8571\n",
            "\n",
            "Epoch 1/19\n",
            "----------\n",
            "train Loss: 0.3478 Acc: 0.8933\n",
            "val Loss: 1.6458 Acc: 0.6786\n",
            "\n",
            "Epoch 2/19\n",
            "----------\n",
            "train Loss: 0.2130 Acc: 0.9467\n",
            "val Loss: 2.6164 Acc: 0.6071\n",
            "\n",
            "Epoch 3/19\n",
            "----------\n",
            "train Loss: 0.0892 Acc: 0.9800\n",
            "val Loss: 2.5235 Acc: 0.6429\n",
            "\n",
            "Epoch 4/19\n",
            "----------\n",
            "train Loss: 0.0482 Acc: 0.9800\n",
            "val Loss: 1.6632 Acc: 0.8214\n",
            "\n",
            "Epoch 5/19\n",
            "----------\n",
            "train Loss: 0.0271 Acc: 0.9933\n",
            "val Loss: 0.4749 Acc: 0.8571\n",
            "\n",
            "Epoch 6/19\n",
            "----------\n",
            "train Loss: 0.0230 Acc: 0.9933\n",
            "val Loss: 0.1934 Acc: 0.8929\n",
            "\n",
            "Epoch 7/19\n",
            "----------\n",
            "train Loss: 0.0453 Acc: 0.9867\n",
            "val Loss: 0.1075 Acc: 0.9286\n",
            "\n",
            "Epoch 8/19\n",
            "----------\n",
            "train Loss: 0.0226 Acc: 0.9933\n",
            "val Loss: 0.1126 Acc: 0.8929\n",
            "\n",
            "Epoch 9/19\n",
            "----------\n",
            "train Loss: 0.0346 Acc: 0.9933\n",
            "val Loss: 0.1040 Acc: 0.9286\n",
            "\n",
            "Epoch 10/19\n",
            "----------\n",
            "train Loss: 0.0163 Acc: 1.0000\n",
            "val Loss: 0.1049 Acc: 0.9286\n",
            "\n",
            "Epoch 11/19\n",
            "----------\n",
            "train Loss: 0.0112 Acc: 1.0000\n",
            "val Loss: 0.0989 Acc: 0.9286\n",
            "\n",
            "Epoch 12/19\n",
            "----------\n",
            "train Loss: 0.0068 Acc: 1.0000\n",
            "val Loss: 0.0983 Acc: 0.9286\n",
            "\n",
            "Epoch 13/19\n",
            "----------\n",
            "train Loss: 0.0149 Acc: 1.0000\n",
            "val Loss: 0.0605 Acc: 1.0000\n",
            "\n",
            "Epoch 14/19\n",
            "----------\n",
            "train Loss: 0.0084 Acc: 1.0000\n",
            "val Loss: 0.0720 Acc: 1.0000\n",
            "\n",
            "Epoch 15/19\n",
            "----------\n",
            "train Loss: 0.0159 Acc: 0.9933\n",
            "val Loss: 0.0793 Acc: 0.9643\n",
            "\n",
            "Epoch 16/19\n",
            "----------\n",
            "train Loss: 0.0253 Acc: 0.9933\n",
            "val Loss: 0.0767 Acc: 0.9643\n",
            "\n",
            "Epoch 17/19\n",
            "----------\n",
            "train Loss: 0.0111 Acc: 1.0000\n",
            "val Loss: 0.1159 Acc: 0.9286\n",
            "\n",
            "Epoch 18/19\n",
            "----------\n",
            "train Loss: 0.0265 Acc: 0.9867\n",
            "val Loss: 0.1156 Acc: 0.9286\n",
            "\n",
            "Epoch 19/19\n",
            "----------\n",
            "train Loss: 0.0063 Acc: 1.0000\n",
            "val Loss: 0.0843 Acc: 0.9286\n",
            "\n",
            "Training complete in 5m 11s\n",
            "Best val Acc: 1.000000\n"
          ],
          "name": "stdout"
        }
      ]
    },
    {
      "cell_type": "code",
      "metadata": {
        "id": "SyYtkULDofuC"
      },
      "source": [
        "torch.save(model_ft, \"model_densenet_wine.pth\")\n",
        "model_ft = torch.load(\"/content/model_densenet_wine.pth\")\n"
      ],
      "execution_count": null,
      "outputs": []
    },
    {
      "cell_type": "code",
      "metadata": {
        "id": "x57i6w4ipUH5",
        "colab": {
          "base_uri": "https://localhost:8080/"
        },
        "outputId": "3caf0931-9f93-4665-d58c-4a9a7ada67ff"
      },
      "source": [
        "nb_classes = len(class_names)\n",
        "\n",
        "confusion_matrix = torch.zeros(nb_classes, nb_classes)\n",
        "with torch.no_grad():\n",
        "    for i, (inputs, classes) in enumerate(dataloaders['val']):\n",
        "        inputs = inputs.to(device)\n",
        "        classes = classes.to(device)\n",
        "        outputs = model_ft(inputs)\n",
        "        _, preds = torch.max(outputs, 1)\n",
        "        for t, p in zip(classes.view(-1), preds.view(-1)):\n",
        "                confusion_matrix[t.long(), p.long()] += 1\n",
        "\n",
        "print(confusion_matrix)\n",
        "\n",
        "print(confusion_matrix.diag()/confusion_matrix.sum(1))\n",
        "\n",
        "plt.figure(figsize=(15,10))\n",
        "\n",
        "# class_names = ['0','1']\n",
        "df_cm = pd.DataFrame(confusion_matrix, index=class_names, columns=class_names).astype(int)\n",
        "heatmap = sns.heatmap(df_cm, annot=True, fmt=\"d\")\n",
        "\n",
        "heatmap.yaxis.set_ticklabels(heatmap.yaxis.get_ticklabels(), rotation=0, ha='right',fontsize=15)\n",
        "heatmap.xaxis.set_ticklabels(heatmap.xaxis.get_ticklabels(), rotation=45, ha='right',fontsize=15)\n",
        "plt.ylabel('True label')\n",
        "plt.xlabel('Predicted label')"
      ],
      "execution_count": null,
      "outputs": [
        {
          "output_type": "stream",
          "text": [
            "tensor([[ 8.,  1.,  0.],\n",
            "        [ 0., 11.,  0.],\n",
            "        [ 0.,  0.,  8.]])\n",
            "tensor([0.8889, 1.0000, 1.0000])\n"
          ],
          "name": "stdout"
        },
        {
          "output_type": "execute_result",
          "data": {
            "text/plain": [
              "Text(0.5, 69.0, 'Predicted label')"
            ]
          },
          "metadata": {
            "tags": []
          },
          "execution_count": 25
        },
        {
          "output_type": "display_data",
          "data": {
            "image/png": "[encoded data removed]",
            "text/plain": [
              "<Figure size 1080x720 with 2 Axes>"
            ]
          },
          "metadata": {
            "tags": [],
            "needs_background": "light"
          }
        }
      ]
    },
    {
      "cell_type": "code",
      "metadata": {
        "id": "EguH9ZJEpOK2",
        "colab": {
          "base_uri": "https://localhost:8080/"
        },
        "outputId": "ccb3060f-33e9-4f4a-b71f-ae6d08b63a56"
      },
      "source": [
        "nb_classes = len(class_names)\n",
        "\n",
        "confusion_matrix = torch.zeros(nb_classes, nb_classes)\n",
        "with torch.no_grad():\n",
        "    for i, (inputs, classes) in enumerate(dataloaders['val']):\n",
        "        inputs = inputs.to(device)\n",
        "        classes = classes.to(device)\n",
        "        outputs = model_ft(inputs)\n",
        "        _, preds = torch.max(outputs, 1)\n",
        "        for t, p in zip(classes.view(-1), preds.view(-1)):\n",
        "                confusion_matrix[t.long(), p.long()] += 1\n",
        "\n",
        "print(confusion_matrix)\n",
        "\n",
        "print(confusion_matrix.diag()/confusion_matrix.sum(1))\n",
        "\n",
        "plt.figure(figsize=(15,10))\n",
        "\n",
        "# class_names = ['0','1']\n",
        "df_cm = pd.DataFrame(confusion_matrix, index=class_names, columns=class_names).astype(int)\n",
        "heatmap = sns.heatmap(df_cm, annot=True, fmt=\"d\")\n",
        "\n",
        "heatmap.yaxis.set_ticklabels(heatmap.yaxis.get_ticklabels(), rotation=0, ha='right',fontsize=15)\n",
        "heatmap.xaxis.set_ticklabels(heatmap.xaxis.get_ticklabels(), rotation=45, ha='right',fontsize=15)\n",
        "plt.ylabel('True label')\n",
        "plt.xlabel('Predicted label')"
      ],
      "execution_count": null,
      "outputs": [
        {
          "output_type": "stream",
          "text": [
            "tensor([[ 8.,  1.,  0.],\n",
            "        [ 0., 11.,  0.],\n",
            "        [ 0.,  0.,  8.]])\n",
            "tensor([0.8889, 1.0000, 1.0000])\n"
          ],
          "name": "stdout"
        },
        {
          "output_type": "execute_result",
          "data": {
            "text/plain": [
              "Text(0.5, 69.0, 'Predicted label')"
            ]
          },
          "metadata": {
            "tags": []
          },
          "execution_count": 26
        },
        {
          "output_type": "display_data",
          "data": {
            "image/png": "[encoded data removed]",
            "text/plain": [
              "<Figure size 1080x720 with 2 Axes>"
            ]
          },
          "metadata": {
            "tags": [],
            "needs_background": "light"
          }
        }
      ]
    },
    {
      "cell_type": "code",
      "metadata": {
        "id": "uBd0tLpEdqFp"
      },
      "source": [
        "# loss_func = nn.CrossEntropyLoss()\n",
        "# results_pd1 = train_simple_network_with_input_reshape(model_ft, loss_func, dataloaders['train'], epochs=25, val_loader=dataloaders['val'],\n",
        "#                                                       checkpoint_file='model_ft_1.pt', score_funcs={'Acc':accuracy_score}, device=device)"
      ],
      "execution_count": null,
      "outputs": []
    },
    {
      "cell_type": "code",
      "metadata": {
        "id": "pmSvLj6SdyJl"
      },
      "source": [
        "# sns.lineplot(x='epoch', y='train Acc', data=results_pd1, label='Train')\n",
        "# sns.lineplot(x='epoch', y='val Acc', data=results_pd1, label='Validation')"
      ],
      "execution_count": null,
      "outputs": []
    },
    {
      "cell_type": "code",
      "metadata": {
        "id": "j6p84OlhwkL4",
        "colab": {
          "base_uri": "https://localhost:8080/",
          "height": 235
        },
        "outputId": "38e593bb-2b02-4223-b3df-c498705c4e43"
      },
      "source": [
        "#pr, tpr, _ = roc_curve(y, y_score)\n",
        "#roc_auc = auc(fpr, tpr)\n",
        "print(\"average_precision_score : {}\".format(average_precision_score(y, y_score)))\n",
        "print(\"roc_auc_score : {}\".format(str(roc_auc_score(y, y_score))))\n",
        "print(\"accuracy : {}\".format(str(accuracy_score(y, y_score))))"
      ],
      "execution_count": null,
      "outputs": [
        {
          "output_type": "error",
          "ename": "NameError",
          "evalue": "ignored",
          "traceback": [
            "\u001b[0;31m---------------------------------------------------------------------------\u001b[0m",
            "\u001b[0;31mNameError\u001b[0m                                 Traceback (most recent call last)",
            "\u001b[0;32m<ipython-input-29-189060033b70>\u001b[0m in \u001b[0;36m<module>\u001b[0;34m()\u001b[0m\n\u001b[1;32m      1\u001b[0m \u001b[0;31m#pr, tpr, _ = roc_curve(y, y_score)\u001b[0m\u001b[0;34m\u001b[0m\u001b[0;34m\u001b[0m\u001b[0;34m\u001b[0m\u001b[0m\n\u001b[1;32m      2\u001b[0m \u001b[0;31m#roc_auc = auc(fpr, tpr)\u001b[0m\u001b[0;34m\u001b[0m\u001b[0;34m\u001b[0m\u001b[0;34m\u001b[0m\u001b[0m\n\u001b[0;32m----> 3\u001b[0;31m \u001b[0mprint\u001b[0m\u001b[0;34m(\u001b[0m\u001b[0;34m\"average_precision_score : {}\"\u001b[0m\u001b[0;34m.\u001b[0m\u001b[0mformat\u001b[0m\u001b[0;34m(\u001b[0m\u001b[0maverage_precision_score\u001b[0m\u001b[0;34m(\u001b[0m\u001b[0my\u001b[0m\u001b[0;34m,\u001b[0m \u001b[0my_score\u001b[0m\u001b[0;34m)\u001b[0m\u001b[0;34m)\u001b[0m\u001b[0;34m)\u001b[0m\u001b[0;34m\u001b[0m\u001b[0;34m\u001b[0m\u001b[0m\n\u001b[0m\u001b[1;32m      4\u001b[0m \u001b[0mprint\u001b[0m\u001b[0;34m(\u001b[0m\u001b[0;34m\"roc_auc_score : {}\"\u001b[0m\u001b[0;34m.\u001b[0m\u001b[0mformat\u001b[0m\u001b[0;34m(\u001b[0m\u001b[0mstr\u001b[0m\u001b[0;34m(\u001b[0m\u001b[0mroc_auc_score\u001b[0m\u001b[0;34m(\u001b[0m\u001b[0my\u001b[0m\u001b[0;34m,\u001b[0m \u001b[0my_score\u001b[0m\u001b[0;34m)\u001b[0m\u001b[0;34m)\u001b[0m\u001b[0;34m)\u001b[0m\u001b[0;34m)\u001b[0m\u001b[0;34m\u001b[0m\u001b[0;34m\u001b[0m\u001b[0m\n\u001b[1;32m      5\u001b[0m \u001b[0mprint\u001b[0m\u001b[0;34m(\u001b[0m\u001b[0;34m\"accuracy : {}\"\u001b[0m\u001b[0;34m.\u001b[0m\u001b[0mformat\u001b[0m\u001b[0;34m(\u001b[0m\u001b[0mstr\u001b[0m\u001b[0;34m(\u001b[0m\u001b[0maccuracy_score\u001b[0m\u001b[0;34m(\u001b[0m\u001b[0my\u001b[0m\u001b[0;34m,\u001b[0m \u001b[0my_score\u001b[0m\u001b[0;34m)\u001b[0m\u001b[0;34m)\u001b[0m\u001b[0;34m)\u001b[0m\u001b[0;34m)\u001b[0m\u001b[0;34m\u001b[0m\u001b[0;34m\u001b[0m\u001b[0m\n",
            "\u001b[0;31mNameError\u001b[0m: name 'average_precision_score' is not defined"
          ]
        }
      ]
    },
    {
      "cell_type": "code",
      "metadata": {
        "id": "oBPQ5Ttxxjfh"
      },
      "source": [
        "nb_classes = len(class_names)\n",
        "\n",
        "confusion_matrix = torch.zeros(nb_classes, nb_classes)\n",
        "with torch.no_grad():\n",
        "    for i, (inputs, classes) in enumerate(dataloaders['val']):\n",
        "        inputs = inputs.to(device)\n",
        "        classes = classes.to(device)\n",
        "        outputs = model_ft(inputs)\n",
        "        _, preds = torch.max(outputs, 1)\n",
        "        for t, p in zip(classes.view(-1), preds.view(-1)):\n",
        "                confusion_matrix[t.long(), p.long()] += 1\n",
        "\n",
        "print(confusion_matrix)\n",
        "\n",
        "print(confusion_matrix.diag()/confusion_matrix.sum(1))\n",
        "\n",
        "plt.figure(figsize=(15,10))\n",
        "\n",
        "# class_names = ['0','1']\n",
        "df_cm = pd.DataFrame(confusion_matrix, index=class_names, columns=class_names).astype(int)\n",
        "heatmap = sns.heatmap(df_cm, annot=True, fmt=\"d\")\n",
        "\n",
        "heatmap.yaxis.set_ticklabels(heatmap.yaxis.get_ticklabels(), rotation=0, ha='right',fontsize=15)\n",
        "heatmap.xaxis.set_ticklabels(heatmap.xaxis.get_ticklabels(), rotation=45, ha='right',fontsize=15)\n",
        "plt.ylabel('True label')\n",
        "plt.xlabel('Predicted label')"
      ],
      "execution_count": null,
      "outputs": []
    },
    {
      "cell_type": "code",
      "metadata": {
        "id": "gPZ-_wQxzI-T"
      },
      "source": [
        "#print('Test accuracy:{:.4f}'.format(correct.double() / dataset_sizes['val']))\n",
        "print('Sensitivity: ', 100*confusion_matrix[0][0]/(confusion_matrix[0][0]+confusion_matrix[0][1]))\n",
        "print('Specificity: ', 100*confusion_matrix[1][1]/(confusion_matrix[1][1]+confusion_matrix[1][0]))\n",
        "print('PPV: ', 100*confusion_matrix[0][0]/(confusion_matrix[0][0]+confusion_matrix[1][0]))\n",
        "print('NPV: ', 100*confusion_matrix[1][1]/(confusion_matrix[1][1]+confusion_matrix[0][1]))"
      ],
      "execution_count": null,
      "outputs": []
    },
    {
      "cell_type": "markdown",
      "metadata": {
        "id": "D7url8xU0eD1"
      },
      "source": [
        ""
      ]
    },
    {
      "cell_type": "code",
      "metadata": {
        "id": "xtT_1F9T0eeo"
      },
      "source": [
        "def getConfusionMatrix(model, show_image=False):\n",
        "    model.eval() #set the model to evaluation mode\n",
        "    confusion_matrix=np.zeros((2,2),dtype=int) #initialize a confusion matrix\n",
        "    num_images=dataloaders['val'] #size of the testset\n",
        "    \n",
        "    with torch.no_grad(): #disable back prop to test the model\n",
        "        for i, (inputs, labels) in enumerate(dataloaders['val']):\n",
        "            inputs = inputs.to(device)\n",
        "            labels = labels.to(device)\n",
        "            #get predictions of the model\n",
        "            outputs = model(inputs) \n",
        "            _, preds = torch.max(outputs, 1) \n",
        "            \n",
        "            #get confusion matrix\n",
        "            for j in range(inputs.size()[0]): \n",
        "                if preds[j]==1 and labels[j]==1:\n",
        "                    term='TP'\n",
        "                    confusion_matrix[0][0]+=1\n",
        "                elif preds[j]==1 and labels[j]==0:\n",
        "                    term='FP'\n",
        "                    confusion_matrix[1][0]+=1\n",
        "                elif preds[j]==0 and labels[j]==1:\n",
        "                    term='FN'\n",
        "                    confusion_matrix[0][1]+=1\n",
        "                elif preds[j]==0 and labels[j]==0:\n",
        "                    term='TN'\n",
        "                    confusion_matrix[1][1]+=1\n",
        "                #show image and its class in confusion matrix    \n",
        "                if show_image:\n",
        "                    print('predicted: {}'.format(class_names[preds[j]]))\n",
        "                    print(term)\n",
        "                    imshow(inputs.cpu().data[j])\n",
        "                    print()\n",
        "        #print results\n",
        "        print('Confusion Matrix: ')\n",
        "        print(confusion_matrix)\n",
        "        print()\n",
        "        print('Sensitivity: ', 100*confusion_matrix[0][0]/(confusion_matrix[0][0]+confusion_matrix[0][1]))\n",
        "        print('Specificity: ', 100*confusion_matrix[1][1]/(confusion_matrix[1][1]+confusion_matrix[1][0]))\n",
        "        print('PPV: ', 100*confusion_matrix[0][0]/(confusion_matrix[0][0]+confusion_matrix[1][0]))\n",
        "        print('NPV: ', 100*confusion_matrix[1][1]/(confusion_matrix[1][1]+confusion_matrix[0][1]))\n",
        "        \n",
        "        return confusion_matrix"
      ],
      "execution_count": null,
      "outputs": []
    },
    {
      "cell_type": "code",
      "metadata": {
        "id": "GEBfZOB00gi1"
      },
      "source": [
        "conf_mat = getConfusionMatrix(model_ft)\n",
        "conf_mat\n"
      ],
      "execution_count": null,
      "outputs": []
    },
    {
      "cell_type": "code",
      "metadata": {
        "id": "kDxsiUyQ5aux"
      },
      "source": [
        "# epochs= np.arange(start=0, stop=25, step=1)\n",
        "\n",
        "# plt.plot(epochs, train_acc[0], 'g', label='Training acc')\n",
        "# plt.plot(epochs, val_acc[0], 'b', label='validation acc')\n",
        "# plt.title('Training and Validation acc')\n",
        "# plt.xlabel('Epochs')\n",
        "# plt.ylabel('acc')\n",
        "# plt.legend()\n",
        "# plt.show()"
      ],
      "execution_count": null,
      "outputs": []
    },
    {
      "cell_type": "code",
      "metadata": {
        "id": "_eLE6yMJwgXZ"
      },
      "source": [
        "## save the model...\n",
        "torch.save(model_ft, \"model_ft_diabetics_96.pth\")   "
      ],
      "execution_count": null,
      "outputs": []
    },
    {
      "cell_type": "code",
      "metadata": {
        "id": "aVmrXchxwji5"
      },
      "source": [
        "# visualize_model(model_ft)"
      ],
      "execution_count": null,
      "outputs": []
    },
    {
      "cell_type": "markdown",
      "metadata": {
        "id": "DVHMjgu4wqgu"
      },
      "source": [
        "###Convolutional Layer Fixed"
      ]
    },
    {
      "cell_type": "code",
      "metadata": {
        "id": "m6O1svlWwp6p"
      },
      "source": [
        "model_conv = torchvision.models.resnet18(pretrained=True)\n",
        "for param in model_conv.parameters():\n",
        "    param.requires_grad = False\n",
        "\n",
        "# Parameters of newly constructed modules have requires_grad=True by default\n",
        "num_ftrs = model_conv.fc.in_features\n",
        "model_conv.fc = nn.Linear(num_ftrs, 2)\n",
        "\n",
        "model_conv = model_conv.to(device)\n",
        "\n",
        "criterion = nn.CrossEntropyLoss()\n",
        "\n",
        "# Observe that only parameters of final layer are being optimized as\n",
        "# opposed to before.\n",
        "optimizer_conv = optim.SGD(model_conv.fc.parameters(), lr=0.001, momentum=0.9)\n",
        "\n",
        "# Decay LR by a factor of 0.1 every 7 epochs\n",
        "exp_lr_scheduler = lr_scheduler.StepLR(optimizer_conv, step_size=7, gamma=0.1)"
      ],
      "execution_count": null,
      "outputs": []
    },
    {
      "cell_type": "code",
      "metadata": {
        "id": "_OoWe_Guwxvw"
      },
      "source": [
        "model_conv = train_model(model_conv, criterion, optimizer_conv,\n",
        "                         exp_lr_scheduler, num_epochs=50)"
      ],
      "execution_count": null,
      "outputs": []
    },
    {
      "cell_type": "code",
      "metadata": {
        "id": "U93trvmiwz9q"
      },
      "source": [
        "torch.save(model_conv, \"model_conv_diabetics_94.pth\")"
      ],
      "execution_count": null,
      "outputs": []
    },
    {
      "cell_type": "code",
      "metadata": {
        "id": "SWIS-QK6w1LS"
      },
      "source": [
        "visualize_model(model_conv)\n",
        "\n",
        "plt.ioff()\n",
        "plt.show()"
      ],
      "execution_count": null,
      "outputs": []
    }
  ]
}